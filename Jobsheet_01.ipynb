{
  "nbformat": 4,
  "nbformat_minor": 0,
  "metadata": {
    "colab": {
      "provenance": [],
      "toc_visible": true,
      "authorship_tag": "ABX9TyPk4obalsX+4wwujyOh6+lT",
      "include_colab_link": true
    },
    "kernelspec": {
      "name": "python3",
      "display_name": "Python 3"
    },
    "language_info": {
      "name": "python"
    }
  },
  "cells": [
    {
      "cell_type": "markdown",
      "metadata": {
        "id": "view-in-github",
        "colab_type": "text"
      },
      "source": [
        "<a href=\"https://colab.research.google.com/github/yoradzasky/2025-PBO-TI1B/blob/main/Jobsheet_01.ipynb\" target=\"_parent\"><img src=\"https://colab.research.google.com/assets/colab-badge.svg\" alt=\"Open In Colab\"/></a>"
      ]
    },
    {
      "cell_type": "markdown",
      "source": [
        "# Jobsheet 01: Dasar Pemograman Berbasis Objek"
      ],
      "metadata": {
        "id": "5jxa7KYdpJ3y"
      }
    },
    {
      "cell_type": "markdown",
      "source": [
        "## Praktikum 01\n"
      ],
      "metadata": {
        "id": "1kWfC0hipjw9"
      }
    },
    {
      "cell_type": "code",
      "source": [
        "angka_int = 10\n",
        "print(angka_int)"
      ],
      "metadata": {
        "colab": {
          "base_uri": "https://localhost:8080/"
        },
        "id": "5RVa250opold",
        "outputId": "04a82263-038d-48be-e4a6-3c6e24ceef17"
      },
      "execution_count": 2,
      "outputs": [
        {
          "output_type": "stream",
          "name": "stdout",
          "text": [
            "10\n"
          ]
        }
      ]
    }
  ]
}