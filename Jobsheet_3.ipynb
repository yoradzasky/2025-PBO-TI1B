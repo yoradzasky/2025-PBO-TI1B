{
  "nbformat": 4,
  "nbformat_minor": 0,
  "metadata": {
    "colab": {
      "provenance": [],
      "authorship_tag": "ABX9TyNpdG+t6CaWNa30D7M95aRO",
      "include_colab_link": true
    },
    "kernelspec": {
      "name": "python3",
      "display_name": "Python 3"
    },
    "language_info": {
      "name": "python"
    }
  },
  "cells": [
    {
      "cell_type": "markdown",
      "metadata": {
        "id": "view-in-github",
        "colab_type": "text"
      },
      "source": [
        "<a href=\"https://colab.research.google.com/github/yoradzasky/2025-PBO-TI1B/blob/main/Jobsheet_3.ipynb\" target=\"_parent\"><img src=\"https://colab.research.google.com/assets/colab-badge.svg\" alt=\"Open In Colab\"/></a>"
      ]
    },
    {
      "cell_type": "markdown",
      "source": [
        "# Praktikum 01 : Enkapsulasi  pada kelas Bank Account"
      ],
      "metadata": {
        "id": "CHdHSLT-WA6g"
      }
    },
    {
      "cell_type": "code",
      "execution_count": 1,
      "metadata": {
        "id": "qXj2pNpFVvSy",
        "outputId": "4e62799c-c531-4fd6-d25d-3d96aac74184",
        "colab": {
          "base_uri": "https://localhost:8080/"
        }
      },
      "outputs": [
        {
          "output_type": "stream",
          "name": "stdout",
          "text": [
            "500 telah ditambahkan ke akun Alice.\n",
            "Jumlah deposit harus lebih dari 0.\n",
            "300 telah ditarik dari akun Alice.\n",
            "Saldo tidak mencukupi.\n",
            "Saldo terakhir di akun Alice: 1200\n"
          ]
        }
      ],
      "source": [
        "class BankAccount:\n",
        "    def __init__(self, owner, balance):\n",
        "        # Atribut dengan double underscore (__) dianggap \"private\" di Python\n",
        "        self.__owner = owner\n",
        "        self.__balance = balance\n",
        "\n",
        "    def deposit(self, amount):\n",
        "        \"\"\"Method untuk menambahkan saldo.\"\"\"\n",
        "        if amount > 0:\n",
        "            self.__balance += amount\n",
        "            print(f\"{amount} telah ditambahkan ke akun {self.__owner}.\")\n",
        "        else:\n",
        "            print(\"Jumlah deposit harus lebih dari 0.\")\n",
        "\n",
        "    def withdraw(self, amount):\n",
        "        \"\"\"Method untuk menarik saldo.\"\"\"\n",
        "        if amount <= self.__balance:\n",
        "            self.__balance -= amount\n",
        "            print(f\"{amount} telah ditarik dari akun {self.__owner}.\")\n",
        "        else:\n",
        "            print(\"Saldo tidak mencukupi.\")\n",
        "\n",
        "    def get_balance(self):\n",
        "        \"\"\"Method untuk mendapatkan informasi saldo terkini.\"\"\"\n",
        "        return self.__balance\n",
        "\n",
        "# Contoh penggunaan\n",
        "if __name__ == \"__main__\":\n",
        "    # Membuat objek BankAccount dengan owner=\"Alice\" dan balance awal 1000\n",
        "    alice_account = BankAccount(owner=\"Alice\", balance=1000)\n",
        "\n",
        "    # Deposit uang\n",
        "    alice_account.deposit(500)      # Berhasil\n",
        "    alice_account.deposit(-100)     # Gagal (validasi)\n",
        "\n",
        "    # Withdraw uang\n",
        "    alice_account.withdraw(300)     # Berhasil\n",
        "    alice_account.withdraw(2000)    # Gagal (saldo tidak cukup)\n",
        "\n",
        "    # Mendapatkan saldo\n",
        "    current_balance = alice_account.get_balance()\n",
        "    print(f\"Saldo terakhir di akun {alice_account._BankAccount__owner}: {current_balance}\")\n",
        "\n",
        "    # Mencoba mengakses atribut 'private' langsung (tidak direkomendasikan)\n",
        "    # alice_account.__balance # Akan error\n",
        "    # Karena Python “mangling” nama atribut __balance menjadi _BankAccount__balance\n",
        "    # Ini adalah salah satu mekanisme enkapsulasi sederhana di Python.\n"
      ]
    },
    {
      "cell_type": "markdown",
      "source": [
        "# Praktikum 02: Enkapsulasi  pada kelas Employee"
      ],
      "metadata": {
        "id": "ckXOQg5xXkRh"
      }
    },
    {
      "cell_type": "code",
      "source": [
        "class Employee:\n",
        "    def __init__(self, name, salary):\n",
        "        # Atribut privat dengan double underscore\n",
        "        self.__name = name\n",
        "        self.__salary = salary\n",
        "\n",
        "    def update_salary(self, increase):\n",
        "        \"\"\"Method untuk menaikkan gaji dengan validasi.\"\"\"\n",
        "        if increase > 0:\n",
        "            self.__salary += increase\n",
        "            print(f\"Gaji telah dinaikkan sebesar {increase}.\")\n",
        "        else:\n",
        "            print(\"Nilai kenaikan harus lebih dari 0.\")\n",
        "\n",
        "    def set_salary(self, new_salary):\n",
        "        \"\"\"Method untuk mengubah gaji dengan validasi.\"\"\"\n",
        "        if new_salary >= 0:\n",
        "            self.__salary = new_salary\n",
        "            print(f\"Gaji diatur ulang menjadi {new_salary}.\")\n",
        "        else:\n",
        "            print(\"Gaji tidak dapat bernilai negatif.\")\n",
        "\n",
        "    def get_salary(self):\n",
        "        \"\"\"Method untuk mendapatkan informasi gaji.\"\"\"\n",
        "        return self.__salary\n",
        "\n",
        "    def get_employee_info(self):\n",
        "        \"\"\"Method untuk menampilkan informasi karyawan secara menyeluruh.\"\"\"\n",
        "        return f\"Employee: {self.__name}, Gaji: {self.__salary}\"\n",
        "\n",
        "# Contoh penggunaan\n",
        "if __name__ == \"__main__\":\n",
        "    # Membuat objek Employee dengan nama \"John Doe\" dan gaji awal 50000\n",
        "    employee1 = Employee(\"John Doe\", 50000)\n",
        "\n",
        "    # Tampilkan informasi karyawan\n",
        "    print(employee1.get_employee_info())\n",
        "\n",
        "    # Update gaji dengan menaikkan sebesar 5000\n",
        "    employee1.update_salary(5000)\n",
        "    print(f\"Gaji setelah kenaikan: {employee1.get_salary()}\")\n",
        "\n",
        "    # Atur ulang gaji dengan nilai baru\n",
        "    employee1.set_salary(60000)\n",
        "    print(f\"Informasi terbaru: {employee1.get_employee_info()}\")\n",
        "\n",
        "    # Mencoba mengakses atribut privat secara langsung (tidak direkomendasikan)\n",
        "    # Contoh: print(employee1.__salary) --> Ini akan menimbulkan error\n"
      ],
      "metadata": {
        "id": "VMo1BH1FWcwf",
        "outputId": "0cc03c65-e273-4880-cab4-8fa07b4e7558",
        "colab": {
          "base_uri": "https://localhost:8080/"
        }
      },
      "execution_count": 2,
      "outputs": [
        {
          "output_type": "stream",
          "name": "stdout",
          "text": [
            "Employee: John Doe, Gaji: 50000\n",
            "Gaji telah dinaikkan sebesar 5000.\n",
            "Gaji setelah kenaikan: 55000\n",
            "Gaji diatur ulang menjadi 60000.\n",
            "Informasi terbaru: Employee: John Doe, Gaji: 60000\n"
          ]
        }
      ]
    },
    {
      "cell_type": "markdown",
      "source": [
        "# Praktikum 03:  Konstruktor dan Destruktor  Sederhana"
      ],
      "metadata": {
        "id": "17IMxJWPa7Id"
      }
    },
    {
      "cell_type": "code",
      "source": [
        "class SimpleExample:\n",
        "    def __init__(self, name):\n",
        "        \"\"\"\n",
        "        Konstruktor: Dipanggil saat objek dibuat.\n",
        "        Menyimpan nilai 'name' dan mencetak pesan pembuatan objek.\n",
        "        \"\"\"\n",
        "        self.name = name\n",
        "        print(f\"Konstruktor: Objek '{self.name}' telah dibuat.\")\n",
        "\n",
        "    def __del__(self):\n",
        "        \"\"\"\n",
        "        Destruktor: Dipanggil saat objek dihapus.\n",
        "        Mencetak pesan bahwa objek sedang dihapus.\n",
        "        \"\"\"\n",
        "        print(f\"Destruktor: Objek '{self.name}' sedang dihapus.\")\n",
        "\n",
        "def main():\n",
        "    print(\"Program dimulai.\\n\")\n",
        "\n",
        "    # Membuat objek SimpleExample\n",
        "    obj = SimpleExample(\"Demo\")\n",
        "    print(\"Program sedang berjalan...\\n\")\n",
        "\n",
        "    # Menghapus objek secara eksplisit\n",
        "    del obj\n",
        "    print(\"Objek telah dihapus secara eksplisit.\\n\")\n",
        "\n",
        "    print(\"Program selesai.\")\n",
        "\n",
        "if __name__ == \"__main__\":\n",
        "    main()\n"
      ],
      "metadata": {
        "id": "-bXzx96QaiVF",
        "outputId": "83eef974-1a50-4f70-edea-c225240801d3",
        "colab": {
          "base_uri": "https://localhost:8080/"
        }
      },
      "execution_count": 3,
      "outputs": [
        {
          "output_type": "stream",
          "name": "stdout",
          "text": [
            "Program dimulai.\n",
            "\n",
            "Konstruktor: Objek 'Demo' telah dibuat.\n",
            "Program sedang berjalan...\n",
            "\n",
            "Destruktor: Objek 'Demo' sedang dihapus.\n",
            "Objek telah dihapus secara eksplisit.\n",
            "\n",
            "Program selesai.\n"
          ]
        }
      ]
    },
    {
      "cell_type": "markdown",
      "source": [
        "# Praktikum 04: Konstruktor  dan Destruktor program  FileLogger"
      ],
      "metadata": {
        "id": "1wYYpldpfko7"
      }
    },
    {
      "cell_type": "code",
      "source": [
        "class FileLogger:\n",
        "    def __init__(self, filename):\n",
        "        \"\"\"\n",
        "        Konstruktor: Membuka file log untuk menulis pesan.\n",
        "        Parameter:\n",
        "        - filename: Nama file tempat pesan log akan ditulis.\n",
        "        \"\"\"\n",
        "        self.filename = filename\n",
        "        try:\n",
        "            self.file = open(filename, \"a\")  # Membuka file dalam mode append\n",
        "            print(f\"File '{filename}' berhasil dibuka untuk logging.\")\n",
        "        except Exception as e:\n",
        "            print(f\"Gagal membuka file '{filename}': {e}\")\n",
        "\n",
        "    def write_log(self, message):\n",
        "        \"\"\"\n",
        "        Menulis pesan log ke dalam file.\n",
        "        Parameter:\n",
        "        - message: Pesan yang akan ditulis ke file.\n",
        "        \"\"\"\n",
        "        self.file.write(message + \"\\n\")\n",
        "        self.file.flush()  # Memastikan pesan langsung ditulis ke disk\n",
        "        print(f\"Pesan log: '{message}' telah ditulis.\")\n",
        "\n",
        "    def __del__(self):\n",
        "        \"\"\"\n",
        "        Destruktor: Menutup file log ketika objek dihapus.\n",
        "        \"\"\"\n",
        "        if hasattr(self, \"file\") and not self.file.closed:\n",
        "            self.file.close()\n",
        "            print(f\"File '{self.filename}' telah ditutup.\")\n",
        "\n",
        "\n",
        "# Contoh penggunaan dalam skenario nyata aplikasi\n",
        "if __name__ == \"__main__\":\n",
        "    # Membuat objek logger untuk file \"application.log\"\n",
        "    logger = FileLogger(\"application.log\")\n",
        "\n",
        "    # Menulis beberapa pesan log selama operasi aplikasi\n",
        "    logger.write_log(\"Aplikasi dimulai.\")\n",
        "    logger.write_log(\"Melakukan operasi A...\")\n",
        "    logger.write_log(\"Operasi A selesai.\")\n",
        "    logger.write_log(\"Aplikasi akan segera selesai.\")\n",
        "\n",
        "    # Menghapus objek logger secara eksplisit\n",
        "    del logger\n",
        "\n",
        "    # Jika objek tidak dihapus secara eksplisit, destruktor akan dipanggil\n",
        "    # ketika program berakhir dan garbage collection membersihkan objek tersebut.\n"
      ],
      "metadata": {
        "id": "QFUVY0eVfBDl",
        "outputId": "f9982778-be46-4ec1-bfab-d345e26ad281",
        "colab": {
          "base_uri": "https://localhost:8080/"
        }
      },
      "execution_count": 4,
      "outputs": [
        {
          "output_type": "stream",
          "name": "stdout",
          "text": [
            "File 'application.log' berhasil dibuka untuk logging.\n",
            "Pesan log: 'Aplikasi dimulai.' telah ditulis.\n",
            "Pesan log: 'Melakukan operasi A...' telah ditulis.\n",
            "Pesan log: 'Operasi A selesai.' telah ditulis.\n",
            "Pesan log: 'Aplikasi akan segera selesai.' telah ditulis.\n",
            "File 'application.log' telah ditutup.\n"
          ]
        }
      ]
    },
    {
      "cell_type": "markdown",
      "source": [
        "# Praktikum 05: Properti \"self\"  pada kelas"
      ],
      "metadata": {
        "id": "855QfO2ngV4r"
      }
    },
    {
      "cell_type": "code",
      "source": [
        "class Calculator:\n",
        "    def __init__(self, initial_value=0):\n",
        "        \"\"\"\n",
        "        Konstruktor kelas Calculator.\n",
        "        - initial_value: Nilai awal dari kalkulator.\n",
        "        \"\"\"\n",
        "        self.value = initial_value\n",
        "        print(f\"Kalkulator diinisialisasi dengan nilai: {self.value}\")\n",
        "\n",
        "    def add(self, number):\n",
        "        \"\"\"\n",
        "        Menambahkan 'number' ke nilai yang tersimpan di objek.\n",
        "        \"\"\"\n",
        "        self.value += number\n",
        "        print(f\"Setelah penambahan {number}, nilai sekarang adalah: {self.value}\")\n",
        "\n",
        "    def subtract(self, number):\n",
        "        \"\"\"\n",
        "        Mengurangi 'number' dari nilai yang tersimpan.\n",
        "        \"\"\"\n",
        "        self.value -= number\n",
        "        print(f\"Setelah pengurangan {number}, nilai sekarang adalah: {self.value}\")\n",
        "\n",
        "    def reset(self):\n",
        "        \"\"\"\n",
        "        Mengatur ulang nilai kalkulator ke 0.\n",
        "        \"\"\"\n",
        "        self.value = 0\n",
        "        print(\"Nilai telah direset ke 0.\")\n",
        "\n",
        "    def show_value(self):\n",
        "        \"\"\"\n",
        "        Menampilkan nilai saat ini dari kalkulator.\n",
        "        \"\"\"\n",
        "        print(f\"Nilai saat ini adalah: {self.value}\")\n",
        "\n",
        "\n",
        "# Contoh penggunaan untuk memahami peran 'self'\n",
        "def main():\n",
        "    # Membuat objek Calculator dengan nilai awal 10\n",
        "    calc1 = Calculator(initial_value=10)\n",
        "\n",
        "    # Menggunakan metode dari objek calc1\n",
        "    calc1.add(5)         # Menambah 5 ke nilai calc1\n",
        "    calc1.subtract(3)    # Mengurangi 3 dari nilai calc1\n",
        "    calc1.show_value()   # Menampilkan nilai calc1\n",
        "\n",
        "    # Membuat objek Calculator lainnya dengan nilai awal default (0)\n",
        "    calc2 = Calculator()\n",
        "    calc2.add(20)        # Menambah 20 ke nilai calc2\n",
        "    calc2.show_value()   # Menampilkan nilai calc2\n",
        "\n",
        "    # Penjelasan peran self:\n",
        "    # 'self' memungkinkan setiap instance (calc1, calc2) memiliki atribut 'value' masing-masing.\n",
        "    # Perubahan pada calc1 tidak mempengaruhi calc2, karena keduanya adalah objek yang berbeda.\n",
        "\n",
        "if __name__ == \"__main__\":\n",
        "    main()\n"
      ],
      "metadata": {
        "id": "eBUcpk0zf04a",
        "outputId": "ce7d37c5-a803-429b-8dfe-74327d2cb0e4",
        "colab": {
          "base_uri": "https://localhost:8080/"
        }
      },
      "execution_count": 5,
      "outputs": [
        {
          "output_type": "stream",
          "name": "stdout",
          "text": [
            "Kalkulator diinisialisasi dengan nilai: 10\n",
            "Setelah penambahan 5, nilai sekarang adalah: 15\n",
            "Setelah pengurangan 3, nilai sekarang adalah: 12\n",
            "Nilai saat ini adalah: 12\n",
            "Kalkulator diinisialisasi dengan nilai: 0\n",
            "Setelah penambahan 20, nilai sekarang adalah: 20\n",
            "Nilai saat ini adalah: 20\n"
          ]
        }
      ]
    },
    {
      "cell_type": "markdown",
      "source": [
        "# Praktikum 06: Menggunakan getter, setter, dan dekorator @property untuk mengelola  akses atribut"
      ],
      "metadata": {
        "id": "Je4hAoFKhJNb"
      }
    },
    {
      "cell_type": "code",
      "source": [
        "class Person:\n",
        "    def __init__(self, name, age):\n",
        "        \"\"\"\n",
        "        Konstruktor untuk menginisialisasi objek Person dengan nama dan umur.\n",
        "        Atribut privat (dengan double underscore) menyimpan data internal.\n",
        "        \"\"\"\n",
        "        self.__name = name\n",
        "        self.__age = age\n",
        "\n",
        "    @property\n",
        "    def name(self):\n",
        "        \"\"\"\n",
        "        Getter untuk atribut name.\n",
        "        Mengembalikan nilai dari __name.\n",
        "        \"\"\"\n",
        "        return self.__name\n",
        "\n",
        "    @name.setter\n",
        "    def name(self, value):\n",
        "        \"\"\"\n",
        "        Setter untuk atribut name.\n",
        "        Memeriksa apakah nilai tidak kosong sebelum mengubah __name.\n",
        "        \"\"\"\n",
        "        if not value:\n",
        "            print(\"Nama tidak boleh kosong.\")\n",
        "        else:\n",
        "            self.__name = value\n",
        "\n",
        "    @property\n",
        "    def age(self):\n",
        "        \"\"\"\n",
        "        Getter untuk atribut age.\n",
        "        Mengembalikan nilai dari __age.\n",
        "        \"\"\"\n",
        "        return self.__age\n",
        "\n",
        "    @age.setter\n",
        "    def age(self, value):\n",
        "        \"\"\"\n",
        "        Setter untuk atribut age.\n",
        "        Memeriksa apakah nilai umur tidak negatif sebelum mengubah __age.\n",
        "        \"\"\"\n",
        "        if value < 0:\n",
        "            print(\"Umur tidak boleh negatif!\")\n",
        "        else:\n",
        "            self.__age = value\n",
        "\n",
        "# Contoh penggunaan\n",
        "def main():\n",
        "    # Membuat objek Person dengan nama \"Alice\" dan umur 30\n",
        "    person = Person(\"Alice\", 30)\n",
        "    print(f\"Nama: {person.name}, Umur: {person.age}\")\n",
        "\n",
        "    # Mengubah nama dan umur melalui setter\n",
        "    person.name = \"Bob\"\n",
        "    person.age = 35\n",
        "    print(f\"Nama baru: {person.name}, Umur baru: {person.age}\")\n",
        "\n",
        "    # Mencoba menetapkan nilai yang tidak valid untuk umur\n",
        "    person.age = -5  # Akan memunculkan pesan error karena validasi umur negatif\n",
        "\n",
        "if __name__ == \"__main__\":\n",
        "    main()\n"
      ],
      "metadata": {
        "id": "2Xc1nqEygtgI",
        "outputId": "66094647-6bbf-4f56-b81e-12efafa62d07",
        "colab": {
          "base_uri": "https://localhost:8080/"
        }
      },
      "execution_count": 6,
      "outputs": [
        {
          "output_type": "stream",
          "name": "stdout",
          "text": [
            "Nama: Alice, Umur: 30\n",
            "Nama baru: Bob, Umur baru: 35\n",
            "Umur tidak boleh negatif!\n"
          ]
        }
      ]
    },
    {
      "cell_type": "markdown",
      "source": [
        "# Program Student"
      ],
      "metadata": {
        "id": "E3jp2XrNhyIC"
      }
    },
    {
      "cell_type": "code",
      "source": [
        "class Student:\n",
        "    def __init__(self, name, score):\n",
        "        self.__name = name\n",
        "        self.__score = 0  # nilai default sementara\n",
        "        self.__grade = \"\"\n",
        "        self.score = score  # gunakan setter agar validasi dan grade otomatis jalan\n",
        "\n",
        "    @property\n",
        "    def name(self):\n",
        "        return self.__name\n",
        "\n",
        "    @name.setter\n",
        "    def name(self, value):\n",
        "        if not value:\n",
        "            print(\"Nama tidak boleh kosong.\")\n",
        "        else:\n",
        "            self.__name = value\n",
        "\n",
        "    @property\n",
        "    def score(self):\n",
        "        return self.__score\n",
        "\n",
        "    @score.setter\n",
        "    def score(self, value):\n",
        "        if 0 <= value <= 100:\n",
        "            self.__score = value\n",
        "            self.__update_grade()\n",
        "        else:\n",
        "            print(\"Nilai harus antara 0 sampai 100.\")\n",
        "\n",
        "    def __update_grade(self):\n",
        "        if self.__score >= 90:\n",
        "            self.__grade = \"A\"\n",
        "        elif self.__score >= 80:\n",
        "            self.__grade = \"B\"\n",
        "        elif self.__score >= 70:\n",
        "            self.__grade = \"C\"\n",
        "        elif self.__score >= 60:\n",
        "            self.__grade = \"D\"\n",
        "        else:\n",
        "            self.__grade = \"E\"\n",
        "\n",
        "    def show_info(self):\n",
        "        print(f\"Nama Mahasiswa: {self.__name}\")\n",
        "        print(f\"Nilai: {self.__score}\")\n",
        "        print(f\"Grade: {self.__grade}\")\n",
        "\n",
        "    def __del__(self):\n",
        "        print(f\"Data mahasiswa {self.__name} telah dihapus dari sistem.\")\n",
        "\n",
        "\n",
        "# Contoh penggunaan\n",
        "def main():\n",
        "    student = Student(\"Siti\", 87)\n",
        "    student.show_info()\n",
        "\n",
        "    print(\"\\nNilai diubah...\")\n",
        "    student.score = 93\n",
        "    student.show_info()\n",
        "\n",
        "    del student  # memicu destruktor\n",
        "\n",
        "if __name__ == \"__main__\":\n",
        "    main()\n"
      ],
      "metadata": {
        "id": "V4YIMNAkhVoT",
        "outputId": "fb77e031-5781-4bdc-baa6-ce75fb2c8c33",
        "colab": {
          "base_uri": "https://localhost:8080/"
        }
      },
      "execution_count": 7,
      "outputs": [
        {
          "output_type": "stream",
          "name": "stdout",
          "text": [
            "Nama Mahasiswa: Siti\n",
            "Nilai: 87\n",
            "Grade: B\n",
            "\n",
            "Nilai diubah...\n",
            "Nama Mahasiswa: Siti\n",
            "Nilai: 93\n",
            "Grade: A\n",
            "Data mahasiswa Siti telah dihapus dari sistem.\n"
          ]
        }
      ]
    },
    {
      "cell_type": "code",
      "source": [],
      "metadata": {
        "id": "wH0wPzbEh4Bs"
      },
      "execution_count": null,
      "outputs": []
    }
  ]
}