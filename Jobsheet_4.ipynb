{
  "nbformat": 4,
  "nbformat_minor": 0,
  "metadata": {
    "colab": {
      "provenance": [],
      "authorship_tag": "ABX9TyN9KeSEqqb53mJq4aU8oYOs",
      "include_colab_link": true
    },
    "kernelspec": {
      "name": "python3",
      "display_name": "Python 3"
    },
    "language_info": {
      "name": "python"
    }
  },
  "cells": [
    {
      "cell_type": "markdown",
      "metadata": {
        "id": "view-in-github",
        "colab_type": "text"
      },
      "source": [
        "<a href=\"https://colab.research.google.com/github/yoradzasky/2025-PBO-TI1B/blob/main/Jobsheet_4.ipynb\" target=\"_parent\"><img src=\"https://colab.research.google.com/assets/colab-badge.svg\" alt=\"Open In Colab\"/></a>"
      ]
    },
    {
      "cell_type": "markdown",
      "source": [
        "## **Praktikkum 1 : Ineritance Dasar**"
      ],
      "metadata": {
        "id": "Du8pwJ3rl7bU"
      }
    },
    {
      "cell_type": "code",
      "execution_count": 1,
      "metadata": {
        "colab": {
          "base_uri": "https://localhost:8080/"
        },
        "id": "bRaFRHvHlwKS",
        "outputId": "8af92e85-9986-4329-a887-d1cbee175daf"
      },
      "outputs": [
        {
          "output_type": "stream",
          "name": "stdout",
          "text": [
            "ini adalah mobil (self.merk) berwarna (self.warna).\n",
            "Mesin kendaraan Tesla Model S dinyalakan.\n",
            "Merk mobil : (mobil_tesla.merk)\n"
          ]
        }
      ],
      "source": [
        "# Kelas Induk\n",
        "class kendaraan :\n",
        "  def __init__(self,merk) :\n",
        "    self.merk = merk\n",
        "  def mulai_mesin(self) :\n",
        "      print(f\"Mesin kendaraan {self.merk} dinyalakan.\")\n",
        "\n",
        "\n",
        "#Kelas Anak (mewarisi dari kendaraan)\n",
        "class Mobil(kendaraan):\n",
        "  def __init__(self, merk, warna): # Removed semicolon and fixed indentation\n",
        "    #Memanggil __init__kelas induk (akan dibahas di Praktikkum 2)\n",
        "    #Untuk sekarang, kita set merk secara manual\n",
        "    self.merk = merk # Mewarisi 'merk' tapi di-set ulang di sini\n",
        "    self.warna = warna #Atribut khusus mobil\n",
        "\n",
        "  def info_mobil (self):\n",
        "    print(f\"ini adalah mobil (self.merk) berwarna (self.warna).\")\n",
        "\n",
        "\n",
        "# ---Kode Utama ---\n",
        "if __name__ == \"__main__\":\n",
        "  mobil_tesla = Mobil (\"Tesla Model S\", \"Merah\")\n",
        "\n",
        "  #Memanggil metode dari keals anak\n",
        "  mobil_tesla.info_mobil()\n",
        "\n",
        "  #Memanggil metode yang diwarisi dari kelas induk\n",
        "  mobil_tesla.mulai_mesin() # Fixed typo in variable name\n",
        "\n",
        "  #Mengakses atribut yang diwarisi (dan di-set di anak)\n",
        "  print(f\"Merk mobil : (mobil_tesla.merk)\")"
      ]
    },
    {
      "cell_type": "markdown",
      "source": [
        "## **Praktikkum 2 : Menggunakan super() dalam instruktur**"
      ],
      "metadata": {
        "id": "RQpWPSqEtXPf"
      }
    },
    {
      "cell_type": "code",
      "source": [
        "# Kelas Induk\n",
        "class Person:\n",
        "   def __init__(self, nama, usia) :\n",
        "       print (f\"(Memanggil __init__ Person untuk '(nama)')\")\n",
        "       self.nama = nama\n",
        "       self.usia = usia\n",
        "\n",
        "   def perkenalkan_diri (self) :\n",
        "         print (f\"Halo, nama saya (self.nama), usia saya (self.usia)tahun.\")\n",
        "\n",
        "#Kelas Anak (mewarisi dari person)\n",
        "class Student (Person) :\n",
        "  def __init__(self, nama, usia, student_id, jurusan) :\n",
        "      print(f\"(Memanggil __init__ Student untuk '(nama)')\")\n",
        "       #Memanggil __init__ dari kelas Person untuk inisialisasi nama dan usia\n",
        "      super() .__init__(nama,usia)\n",
        "\n",
        "      #Menambahkan atribut khusus Student\n",
        "      self.student_id = student_id\n",
        "      self.jurusan = jurusan\n",
        "      print(f\"(inisilisasi atribut Student selesai untuk '(nama)')\")\n",
        "\n",
        "  def info_akademik(self) :\n",
        "    print(f\"ID Mahasiswa: (self.student_id)\")\n",
        "    print(f\"Jurusan: (self.jurusan)\")\n",
        "\n",
        "  #Override perkenalkan diri untuk menambahkan info student\n",
        "  def perkenalkan_diri(self) :\n",
        "    super() .perkenalkan_diri() # Panggil versi Person\n",
        "    print(f\"Saya adalah mahasiswa dengan ID (self.student_id), jurusan (self.jurusan).\")\n",
        "\n",
        "# --- Kode Utama ---\n",
        "if __name__ == \"__main__\":\n",
        "  #Membuat objek person\n",
        "  dosen = Person(\"Pak Anton\", 45)\n",
        "  print(\"-\" * 20)\n",
        "  dosen.perkenalkan_diri()\n",
        "  print(\"\\n\" +\"=\" * 30 + \"\\n\")\n",
        "\n",
        "  #Mmebuat Objek Student\n",
        "  mahasiswa = Student(\"Dewi\", 20, \"MHS001\", \"Teknik Komputer\")\n",
        "  print(\"-\" * 20)\n",
        "  mahasiswa.perkenalkan_diri() # Panggil versi override di Student\n",
        "  print(\"-\" * 20)\n",
        "  mahasiswa.info_akademik() # Panggil metode khusus Student\n",
        "\n",
        "  # Cek atribut yang diwarisi\n",
        "  print(f\"\\nUsia mahasiswa (mahasiswa.nama) : (mahasiswa.usia)\") # Usia diwarisi dari person"
      ],
      "metadata": {
        "colab": {
          "base_uri": "https://localhost:8080/"
        },
        "id": "LRl_7gYloeCt",
        "outputId": "29be0010-6137-4c24-9938-1bbda0979821"
      },
      "execution_count": 2,
      "outputs": [
        {
          "output_type": "stream",
          "name": "stdout",
          "text": [
            "(Memanggil __init__ Person untuk '(nama)')\n",
            "--------------------\n",
            "Halo, nama saya (self.nama), usia saya (self.usia)tahun.\n",
            "\n",
            "==============================\n",
            "\n",
            "(Memanggil __init__ Student untuk '(nama)')\n",
            "(Memanggil __init__ Person untuk '(nama)')\n",
            "(inisilisasi atribut Student selesai untuk '(nama)')\n",
            "--------------------\n",
            "Halo, nama saya (self.nama), usia saya (self.usia)tahun.\n",
            "Saya adalah mahasiswa dengan ID (self.student_id), jurusan (self.jurusan).\n",
            "--------------------\n",
            "ID Mahasiswa: (self.student_id)\n",
            "Jurusan: (self.jurusan)\n",
            "\n",
            "Usia mahasiswa (mahasiswa.nama) : (mahasiswa.usia)\n"
          ]
        }
      ]
    },
    {
      "cell_type": "markdown",
      "source": [
        "## **Praktikkum 3**"
      ],
      "metadata": {
        "id": "ZzOWWcCbz7ig"
      }
    },
    {
      "cell_type": "code",
      "source": [
        "#Kelas Induk\n",
        "class Hewan :\n",
        "  def __init__(self, nama) :\n",
        "    self.nama = nama\n",
        "  def bersuara (self) :\n",
        "    print(f\"(self.nama) mengeluarkan suara generik.\")\n",
        "  def tampilkan_info(self) :\n",
        "    print (f\"ini adalah hewan bernama (self.nama).\")\n",
        "\n",
        "#Kelas Anak\n",
        "class Kucing(Hewan) :\n",
        "  def __init__(self, nama, ras) :\n",
        "    super().__init__(nama) # Panggil ini induk\n",
        "    self.ras = ras\n",
        "    #Method Overriding untuk bersuara\n",
        "    def bersuara(self) :\n",
        "      print(f\"(self.nama) (Kucing) mengeong: Mewo!\")\n",
        "\n",
        "    #Metod Overriding untuk tampilkan_info, memanggil versi induk\n",
        "    def tampilkan_info(self) :\n",
        "      super() .tampilkan_info() # Panggil implementasi dari Hewan\n",
        "      print(f\"ini adalah kucing ras (self.ras).\") # Tambakan info spesifik\n",
        "\n",
        "# --- Kode Utama ---\n",
        "if __name__ == \"__main__\":\n",
        "  hewan_umum = Hewan(\"Makhluk\")\n",
        "  kucing_persia = Kucing(\"Puspus\", \"Persia\")\n",
        "\n",
        "  print(\"Info Hewan Umum:\")\n",
        "  hewan_umum.tampilkan_info()\n",
        "  hewan_umum.bersuara()\n",
        "  print(\"-\" * 20)\n",
        "\n",
        "  print(\"Info Kucing Persia:\")\n",
        "  kucing_persia.tampilkan_info() # Akan memanggil versi kucing\n",
        "  kucing_persia.bersuara() # Akan memanggil versi kucing"
      ],
      "metadata": {
        "colab": {
          "base_uri": "https://localhost:8080/"
        },
        "id": "zIn7Z1MxuQ9r",
        "outputId": "a8544e95-23f4-4301-9b9f-f00e09408cf0"
      },
      "execution_count": 3,
      "outputs": [
        {
          "output_type": "stream",
          "name": "stdout",
          "text": [
            "Info Hewan Umum:\n",
            "ini adalah hewan bernama (self.nama).\n",
            "(self.nama) mengeluarkan suara generik.\n",
            "--------------------\n",
            "Info Kucing Persia:\n",
            "ini adalah hewan bernama (self.nama).\n",
            "(self.nama) mengeluarkan suara generik.\n"
          ]
        }
      ]
    },
    {
      "cell_type": "markdown",
      "source": [
        "## **Praktikum 4 : Multi-level Inheritance (Pewarisan Bertingkat)**"
      ],
      "metadata": {
        "id": "DGO0zbMH2su3"
      }
    },
    {
      "cell_type": "code",
      "source": [
        "#Kelas Induk Level 1\n",
        "class Organisme:\n",
        "  def __init__(self,nama) :\n",
        "    self.nama = nama\n",
        "    print(f\"Organisme '(self.nama)' diciptakan.\")\n",
        "\n",
        "  def bernafas(self) :\n",
        "    print (f\"(self.nama) sedang bernafas.\")\n",
        "\n",
        "#Kelas Anak Level 2 (merwarisi dari hewan)\n",
        "class Mamalia(Hewan) :\n",
        "  def __init__(self, nama, jenis_makanan, jumlah_kaki) :\n",
        "    super().__init__(nama)  # Panggil init hewan hanya dengan 'nama'\n",
        "    self.jenis_makanan = jenis_makanan\n",
        "    self.jumlah_kaki = jumlah_kaki # Inisialisasi jumlah_kaki\n",
        "    print(f\"hewan '(self.nama)' adalah {self.jenis_makanan}.\") # Perbaiki f-string\n",
        "\n",
        "  def menyusui(self) :\n",
        "    print (f\"(self.nama) sedang menyusui.\")\n",
        "\n",
        "  def bergerak(self) :\n",
        "    print (f\"(self.nama) sedang bergerak.\")\n",
        "\n",
        "\n",
        "# ---Kode Utama ---\n",
        "if __name__ == \"__main__\":\n",
        "  kucing = Mamalia(\"Kucing Persia\", \"Karnivora\", 4)\n",
        "  print(\"-\" *20)\n",
        "\n",
        "  #Memanggil metode dari kelas mamalia\n",
        "  kucing.menyusui()\n",
        "  #Memanggil metode yang diwarisi dari kelas hewan\n",
        "  kucing.bergerak()\n",
        "  print(f\"Jenis makananan: {kucing.jenis_makanan}\") # Perbaiki f-string dan akses atribut\n",
        "  #Memanggil metode yang diwarisi dari kelas organisme\n",
        "  # kucing.bernafas() # Hapus karena Organisme bukan parent\n",
        "  print(f\"Nama organisme: {kucing.nama}\") # Perbaiki f-string dan akses atribut"
      ],
      "metadata": {
        "colab": {
          "base_uri": "https://localhost:8080/"
        },
        "id": "vZz4svMP0hrM",
        "outputId": "1c26a135-ccdb-4dff-f7c5-f0a2311dc538"
      },
      "execution_count": 4,
      "outputs": [
        {
          "output_type": "stream",
          "name": "stdout",
          "text": [
            "hewan '(self.nama)' adalah Karnivora.\n",
            "--------------------\n",
            "(self.nama) sedang menyusui.\n",
            "(self.nama) sedang bergerak.\n",
            "Jenis makananan: Karnivora\n",
            "Nama organisme: Kucing Persia\n"
          ]
        }
      ]
    },
    {
      "cell_type": "markdown",
      "source": [
        "## **Praktikkum 5 : Hierarchical Inheritance**"
      ],
      "metadata": {
        "id": "2lNtDtEi7oYm"
      }
    },
    {
      "cell_type": "code",
      "source": [
        "!apt-get install -y locales\n",
        "!locale-gen id_ID.UTF-8\n",
        "!update-locale"
      ],
      "metadata": {
        "colab": {
          "base_uri": "https://localhost:8080/"
        },
        "id": "G3Ac128bDHBI",
        "outputId": "f61b02a8-332b-4518-f0f6-b4d947d34ce8"
      },
      "execution_count": 5,
      "outputs": [
        {
          "output_type": "stream",
          "name": "stdout",
          "text": [
            "Reading package lists... Done\n",
            "Building dependency tree... Done\n",
            "Reading state information... Done\n",
            "locales is already the newest version (2.35-0ubuntu3.9).\n",
            "0 upgraded, 0 newly installed, 0 to remove and 34 not upgraded.\n",
            "Generating locales (this might take a while)...\n",
            "  id_ID.UTF-8... done\n",
            "Generation complete.\n"
          ]
        }
      ]
    },
    {
      "cell_type": "code",
      "source": [
        "import locale\n",
        "\n",
        "#set locale ke indonesia untuk format mata uang\n",
        "try:\n",
        "   locale.setlocale(locale.LC_ALL, 'id_ID.UTF-8')\n",
        "except locale.Error:\n",
        "   print(\"Locale id_ID.UTF-8 tidak tersedia menggunakan locale default.\")\n",
        "\n",
        "#Fungsi helper untuk format mata uang\n",
        "def format_rupiah(angka) :\n",
        "    return locale.currency(angka, grouping=True, symbol='Rp ')\n",
        "\n",
        "#Kelas Induk\n",
        "class Pegawai :\n",
        "    def __init__(self, nama, id_pegawai, gaji_pokok) :\n",
        "      self.nama = nama\n",
        "      self.id_pegawai = id_pegawai\n",
        "      self.gaji_pokok = gaji_pokok\n",
        "\n",
        "    def hitung_gaji(self) :\n",
        "      #Gaji dasar, bisa di-override\n",
        "      return self.gaji_pokok\n",
        "\n",
        "    def tampilkan_info(self) :\n",
        "      print(f\"ID: (self.id_pegawai), Nama : (self.nama)\")\n",
        "      print(f\" Gaji Pokok : (format_rupiah(self.gaji_pokok))\")\n",
        "\n",
        "#Kelas Anak 1\n",
        "class Manager(Pegawai) :\n",
        "  def __init__(self, nama, id_pegawai, gaji_pokok, tunjangan_jabatan) :\n",
        "    super().__init__(nama, id_pegawai, gaji_pokok)\n",
        "    self.tunjangan_jabatan = tunjangan_jabatan\n",
        "\n",
        "  #Override hitung_gaji  # Indentation corrected here\n",
        "  def hitung_gaji(self) :\n",
        "    gaji_total = super() .hitung_gaji() + self.tunjangan_jabatan\n",
        "    return gaji_total\n",
        "  #Override tampilkan_info (memanggil versi induk) # Indentation corrected here\n",
        "  def tampilkan_info(self) :\n",
        "    print(\"--- Info Manager ---\")\n",
        "    super() .tampilkan_info() # Panggil info dasar dari pegawai\n",
        "    print(f\" Tunjangan Jabatan : (format_rupiah(self.tunjangan_jabatan))\")\n",
        "    print(f\" Gaji Total : (format_rupiah(self.hitung_gaji()))\")\n",
        "\n",
        "#Kelas Anak 2\n",
        "class StafTeknis(Pegawai) :\n",
        "  def __init__(self, nama, id_pegawai, gaji_pokok, keahlian, bonus_keahlian):\n",
        "    super().__init__(nama, id_pegawai, gaji_pokok)\n",
        "    self.keahlian = keahlian\n",
        "    self.bonus_keahlian = bonus_keahlian\n",
        "\n",
        "  #Override hitung_gaji  # Indentation corrected here\n",
        "  def hitung_gaji(self) :\n",
        "    gaji_total = super() .hitung_gaji() + self.bonus_keahlian\n",
        "    return gaji_total\n",
        "\n",
        "  #Override tampilkan_info (memanggil versi induk) # Indentation corrected here\n",
        "  def tampilkan_info(self) :\n",
        "    print (\"--- Info Staf Teknis ---\")\n",
        "    super() .tampilkan_info() # Panggil info dasar dari pegawai\n",
        "    print(f\" Keahlian : (self.keahlian)\")\n",
        "    print(f\" Bonus Keahlian : (format_rupiah(self.bonus_keahlian))\")\n",
        "    print(f\" Gaji Total : (format_rupiah(self.hitung_gaji()))\")\n",
        "\n",
        "# ---Kode Utama ---\n",
        "if __name__== \"__main__\" :\n",
        "  manager1 = Manager(\"Budi Santoso\", \"M001\",10000000, 5000000) # Changed 'managerl' to 'manager1'\n",
        "  staf1 = StafTeknis(\"Citra Lestari\", \"S001\", 7000000, \"Python Programming\", 1500000)\n",
        "  pegawai_baru = Pegawai(\"Rian\", \"p005\", 5000000) # Pegawai biasa\n",
        "\n",
        "  print(\"Menampilkan Informasi Pegawai:\")\n",
        "  manager1.tampilkan_info() # Changed 'manager1' to 'manager1'\n",
        "  print(\"-\" * 20)\n",
        "  staf1.tampilkan_info()\n",
        "  print(\"-\" * 30)\n",
        "\n",
        "  print(\"---Info Pegawai Baru---\")\n",
        "  pegawai_baru.tampilkan_info()\n",
        "  print(f\" Total Gaji : (format_rupiah(pegawai_baru.hitung_gaji()))\")\n",
        "# Memanggil versi pegawai\n",
        "  print(\"-\" * 30)"
      ],
      "metadata": {
        "colab": {
          "base_uri": "https://localhost:8080/"
        },
        "id": "PDOmm6uY4EAm",
        "outputId": "5155b8b2-7ee5-4f9d-a08d-34ef1d3be54f"
      },
      "execution_count": 6,
      "outputs": [
        {
          "output_type": "stream",
          "name": "stdout",
          "text": [
            "Menampilkan Informasi Pegawai:\n",
            "--- Info Manager ---\n",
            "ID: (self.id_pegawai), Nama : (self.nama)\n",
            " Gaji Pokok : (format_rupiah(self.gaji_pokok))\n",
            " Tunjangan Jabatan : (format_rupiah(self.tunjangan_jabatan))\n",
            " Gaji Total : (format_rupiah(self.hitung_gaji()))\n",
            "--------------------\n",
            "--- Info Staf Teknis ---\n",
            "ID: (self.id_pegawai), Nama : (self.nama)\n",
            " Gaji Pokok : (format_rupiah(self.gaji_pokok))\n",
            " Keahlian : (self.keahlian)\n",
            " Bonus Keahlian : (format_rupiah(self.bonus_keahlian))\n",
            " Gaji Total : (format_rupiah(self.hitung_gaji()))\n",
            "------------------------------\n",
            "---Info Pegawai Baru---\n",
            "ID: (self.id_pegawai), Nama : (self.nama)\n",
            " Gaji Pokok : (format_rupiah(self.gaji_pokok))\n",
            " Total Gaji : (format_rupiah(pegawai_baru.hitung_gaji()))\n",
            "------------------------------\n"
          ]
        }
      ]
    },
    {
      "cell_type": "markdown",
      "source": [
        "## **Praktikkum 6 : Memeriksa Tipe Instance dengan instance()**"
      ],
      "metadata": {
        "id": "jf0PaAOPEka7"
      }
    },
    {
      "cell_type": "code",
      "source": [
        "class BentukGeometri :\n",
        "  def __init__(self, nama_bentuk) :\n",
        "    self.nama = nama_bentuk\n",
        "  def tampilkan_nama(self) :\n",
        "    print(f\"Ini adala bentuk: {self.nama}\") # Corrected f-string formatting\n",
        "  def hitung_luas(self) :\n",
        "    print(f\"Luas {self.nama} tidak dapat dihitung (generik).\") # Corrected f-string formatting\n",
        "\n",
        "class PersegiPanjang(BentukGeometri) :\n",
        "  def __init__(self, panjang, lebar) :\n",
        "    super().__init__(\"Persegi Panjang\")\n",
        "    self.panjang = panjang\n",
        "    self.lebar = lebar\n",
        "  def hitung_luas(self) :\n",
        "    luas = self.panjang * self.lebar\n",
        "    print(f\"Luas Persegi Panjang: {luas}\") # Corrected f-string formatting\n",
        "\n",
        "class Segitiga(BentukGeometri) :\n",
        "  def __init__(self, alas, tinggi) :\n",
        "    super().__init__(\"Segitiga\")\n",
        "    self.alas = alas\n",
        "    self.tinggi = tinggi\n",
        "  def hitung_luas(self) :\n",
        "    luas = 0.5 * self.alas * self.tinggi\n",
        "    print (f\"Luas Segitiga: {luas}\") # Corrected f-string formatting\n",
        "\n",
        "# Moved proses_bentuk outside the class\n",
        "def proses_bentuk(bentuk) :\n",
        "    print(f\"\\nMemproses objek: {type(bentuk)}\") # Corrected f-string formatting\n",
        "\n",
        "    if isinstance(bentuk, BentukGeometri) :\n",
        "      bentuk.tampilkan_nama()\n",
        "      print(\"Objek ini adlah instance dari BentukGeometri (atau turunannya).\")\n",
        "\n",
        "      if isinstance(bentuk, PersegiPanjang) :\n",
        "        bentuk.hitung_luas()\n",
        "        print(\"Objek ini adalah instance dari PersegiPanjang.\")\n",
        "      #Removed unnecessary else block\n",
        "\n",
        "      if isinstance(bentuk, str) : # Corrected 'isintance' to 'isinstance'\n",
        "        print(\"Objek ini adalah string.\")\n",
        "\n",
        "# ---Kode Utama ---\n",
        "if __name__ == \"__main__\" :\n",
        "  pp = PersegiPanjang(4, 3)\n",
        "  seg = Segitiga(5, 2)\n",
        "  bg = BentukGeometri(\"Lingkaran\") # Contoh lain\n",
        "  teks = \"Ini adalah string\"\n",
        "\n",
        "  daftar_objek = [pp, seg, bg, teks]\n",
        "\n",
        "  for obj in daftar_objek :\n",
        "    proses_bentuk(obj)"
      ],
      "metadata": {
        "colab": {
          "base_uri": "https://localhost:8080/"
        },
        "id": "oX4-bJUn9h3e",
        "outputId": "7daaf6f3-3179-404f-ebda-db998e069abb"
      },
      "execution_count": 24,
      "outputs": [
        {
          "output_type": "stream",
          "name": "stdout",
          "text": [
            "\n",
            "Memproses objek: <class '__main__.PersegiPanjang'>\n",
            "Ini adala bentuk: Persegi Panjang\n",
            "Objek ini adlah instance dari BentukGeometri (atau turunannya).\n",
            "Luas Persegi Panjang: 12\n",
            "Objek ini adalah instance dari PersegiPanjang.\n",
            "\n",
            "Memproses objek: <class '__main__.Segitiga'>\n",
            "Ini adala bentuk: Segitiga\n",
            "Objek ini adlah instance dari BentukGeometri (atau turunannya).\n",
            "\n",
            "Memproses objek: <class '__main__.BentukGeometri'>\n",
            "Ini adala bentuk: Lingkaran\n",
            "Objek ini adlah instance dari BentukGeometri (atau turunannya).\n",
            "\n",
            "Memproses objek: <class 'str'>\n"
          ]
        }
      ]
    },
    {
      "cell_type": "code",
      "source": [],
      "metadata": {
        "id": "784bwslIIUv8"
      },
      "execution_count": null,
      "outputs": []
    }
  ]
}