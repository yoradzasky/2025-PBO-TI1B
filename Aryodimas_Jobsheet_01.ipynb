{
  "nbformat": 4,
  "nbformat_minor": 0,
  "metadata": {
    "colab": {
      "provenance": [],
      "toc_visible": true,
      "authorship_tag": "ABX9TyPzYxdHh8giNYIOIANtZq+R",
      "include_colab_link": true
    },
    "kernelspec": {
      "name": "python3",
      "display_name": "Python 3"
    },
    "language_info": {
      "name": "python"
    }
  },
  "cells": [
    {
      "cell_type": "markdown",
      "metadata": {
        "id": "view-in-github",
        "colab_type": "text"
      },
      "source": [
        "<a href=\"https://colab.research.google.com/github/yoradzasky/2025-PBO-TI1B/blob/main/Aryodimas_Jobsheet_01.ipynb\" target=\"_parent\"><img src=\"https://colab.research.google.com/assets/colab-badge.svg\" alt=\"Open In Colab\"/></a>"
      ]
    },
    {
      "cell_type": "markdown",
      "source": [
        "# Jobsheet 01: Dasar Pemograman Berbasis Objek"
      ],
      "metadata": {
        "id": "5jxa7KYdpJ3y"
      }
    },
    {
      "cell_type": "markdown",
      "source": [
        "## Praktikum 01\n"
      ],
      "metadata": {
        "id": "1kWfC0hipjw9"
      }
    },
    {
      "cell_type": "markdown",
      "source": [
        "### **Tipe Data Dasar**\n",
        "\n",
        "Pada praktikum ini, mahasiswa akan mempelajari tipe-tipe data dasar yang digunakan dalam pemrograman Python, mulai dari integer, float, dan complex untuk nilai numerik, hingga boolean, string, list, tuple, dictionary, serta set yang memiliki karakteristik serta fungsi tersendiri. Mahasiswa juga akan mempraktikkan cara melakukan konversi tipe data (misalnya dari string ke integer), sehingga dapat lebih memahami bagaimana Python secara dinamis menangani berbagai format data. Pemahaman terhadap tipe data dasar ini menjadi landasan penting dalam mengembangkan logika program yang efisien dan terstruktur, sekaligus mempersiapkan mahasiswa untuk mengimplementasikan konsep pemrograman berorientasi objek di tahap lanjutan.\n",
        "\n"
      ],
      "metadata": {
        "id": "VhyhPShn50GG"
      }
    },
    {
      "cell_type": "code",
      "source": [
        "# 1. Number (int, float, complex)\n",
        "# Integer (int)\n",
        "angka_int = 10\n",
        "print(\"angka_int =\", angka_int, \"->\", type(angka_int))\n",
        "\n",
        "# Float\n",
        "angka_float = 3.14\n",
        "print(\"angka_float =\", angka_float, \"->\", type(angka_float))\n",
        "\n",
        "# Complex\n",
        "angka_complex = 2 + 3j\n",
        "print(\"angka_complex =\", angka_complex, \"->\", type(angka_complex))\n",
        "\n",
        "# 2. Boolean\n",
        "is_active = True\n",
        "print(\"is_active =\", is_active, \"->\", type(is_active))\n",
        "\n",
        "# 3. String\n",
        "teks = \"Hello, Python!\"\n",
        "print(\"teks =\", teks, \"->\", type(teks))\n",
        "\n",
        "# 4. List\n",
        "# List adalah tipe data terurut dan dapat diubah (mutable)\n",
        "daftar_angka = [1, 2, 3, 4, 5]\n",
        "print(\"daftar_angka =\", daftar_angka, \"->\", type(daftar_angka))\n",
        "\n",
        "# 5. Tuple\n",
        "# Tuple adalah tipe data terurut tetapi tidak dapat diubah (immutable)\n",
        "koordinat = (10, 20)\n",
        "print(\"koordinat =\", koordinat, \"->\", type(koordinat))\n",
        "\n",
        "# 6. Dictionary\n",
        "# Dictionary menyimpan data dalam pasangan key-value\n",
        "data_mahasiswa = {\n",
        "    \"nama\": \"Andi\",\n",
        "    \"nim\": \"A11.2022.12345\",\n",
        "    \"jurusan\": \"Teknik Informatika\"\n",
        "}\n",
        "print(\"data_mahasiswa =\", data_mahasiswa, \"->\", type(data_mahasiswa))\n",
        "\n",
        "# 7. Set\n",
        "# Set adalah tipe data yang tidak terurut, unik (tiap elemen hanya muncul 1x)\n",
        "himpunan_angka = {1, 2, 3, 2, 1}\n",
        "print(\"himpunan_angka =\", himpunan_angka, \"->\", type(himpunan_angka))\n",
        "\n",
        "# 8. Contoh penggunaan konversi tipe data\n",
        "nilai_str = \"100\"\n",
        "print(\"\\nnilai_str =\", nilai_str, \"->\", type(nilai_str))\n",
        "nilai_int = int(nilai_str)  # konversi string ke integer\n",
        "print(\"nilai_int =\", nilai_int, \"->\", type(nilai_int))\n",
        "# The following lines were unexpectedly indented and have been corrected:\n",
        "print(\"angka_int =\", angka_int, \"->\", type(angka_int))\n",
        "\n",
        "angka_float = 3.14\n",
        "print(\"angka_float =\", angka_float, \"->\", type(angka_float))\n",
        "\n",
        "angka_complex = 2 + 3j\n",
        "print(\"angka_complex =\", angka_complex, \"->\", type(angka_complex))"
      ],
      "metadata": {
        "id": "Hq979h6019JH",
        "outputId": "a8728713-eba8-4f5b-cd99-99859bb95ef1",
        "colab": {
          "base_uri": "https://localhost:8080/"
        }
      },
      "execution_count": null,
      "outputs": [
        {
          "output_type": "stream",
          "name": "stdout",
          "text": [
            "himpunan_angka = {1, 2, 3} -> <class 'set'>\n",
            "\n",
            "nilai_str = 100 -> <class 'str'>\n",
            "nilai_int = 100 -> <class 'int'>\n",
            "angka_int = 10 -> <class 'int'>\n",
            "angka_float = 3.14 -> <class 'float'>\n",
            "angka_complex = (2+3j) -> <class 'complex'>\n"
          ]
        }
      ]
    },
    {
      "cell_type": "markdown",
      "source": [
        "## **Praktikum 02**"
      ],
      "metadata": {
        "id": "xoaUhAI56cKk"
      }
    },
    {
      "cell_type": "markdown",
      "source": [
        "### **Variabel dan Operasi dasar**\n",
        "Pada praktikum ini, mahasiswa akan mempelajari cara mendeklarasikan variabel tanpa harus menentukan tipe data secara eksplisit di Python. Beragam operasi dasar—seperti aritmetika (penjumlahan, pengurangan, perkalian, pembagian), perbandingan (==, !=, >, <, >=, <=), dan logika (and, or, not)—akan diterapkan untuk memanipulasi nilai yang disimpan dalam variabel. Dengan mempraktikkan berbagai operasi tersebut, mahasiswa dapat memahami bagaimana Python menangani ekspresi matematika dan logika untuk membentuk fondasi pengembangan aplikasi yang lebih kompleks.\n",
        "\n"
      ],
      "metadata": {
        "id": "ekv8s9wR6Wh3"
      }
    },
    {
      "cell_type": "code",
      "source": [
        "# -*- coding: utf-8 -*- 02:\n",
        "\n",
        "# 1. Pendeklarasian Variabel\n",
        "nama = \"Budi\"\n",
        "umur = 20\n",
        "tinggi = 170.5\n",
        "is_student = True\n",
        "\n",
        "print(\"1. Deklarasi Variabel\")\n",
        "print(\"Nama =\", nama)\n",
        "print(\"Umur =\", umur)\n",
        "print(\"Tinggi =\", tinggi, \"cm\")\n",
        "print(\"Mahasiswa =\", is_student)\n",
        "\n",
        "# Python tidak memerlukan deklarasi tipe data secara eksplisit.\n",
        "# Tipe data variabel akan menyesuaikan nilai yang diberikan.\n",
        "\n",
        "# 2. Operasi Aritmetika\n",
        "a = 10\n",
        "b = 3\n",
        "\n",
        "penjumlahan = a + b      # Tambah\n",
        "pengurangan = a - b      # Kurang\n",
        "perkalian = a * b        # Kali\n",
        "pembagian = a / b        # Bagi (hasil float)\n",
        "pembagian_bulat = a // b # Bagi (bulat)\n",
        "modulus = a % b          # Sisa bagi\n",
        "pangkat = a ** b         # Pemangkatan\n",
        "\n",
        "print(\"\\n2. OPERASI ARITMETIKA\")\n",
        "print(\"a =\", a, \", b =\", b)\n",
        "print(\"Penjumlahan =\", penjumlahan)\n",
        "print(\"Pengurangan =\", pengurangan)\n",
        "print(\"Perkalian =\", perkalian)\n",
        "print(\"Pembagian =\", pembagian)\n",
        "print(\"Pembagian Bulat =\", pembagian_bulat)\n",
        "print(\"Modulus =\", modulus)\n",
        "print(\"Pangkat =\", pangkat)\n",
        "\n",
        "# 3. Operasi Perbandingan\n",
        "# Menghasilkan nilai Boolean (True/False)\n",
        "lebih_besar = a > b\n",
        "kurang_dari = a < b\n",
        "sama_dengan = a == b\n",
        "tidak_sama = a != b\n",
        "lebih_besar_sama = a >= b\n",
        "kurang_sama = a <= b\n",
        "\n",
        "print(\"\\n3. OPERASI PERBANDINGAN\")\n",
        "print(\"a > b =\", lebih_besar)\n",
        "print(\"a < b =\", kurang_dari)\n",
        "print(\"a == b =\", sama_dengan)\n",
        "print(\"a != b =\", tidak_sama)\n",
        "print(\"a >= b =\", lebih_besar_sama)\n",
        "print(\"a <= b =\", kurang_sama)\n",
        "\n",
        "# 4. Operasi Logika\n",
        "# and, or, not\n",
        "\n",
        "x = True\n",
        "y = False\n",
        "\n",
        "logika_and = x and y\n",
        "logika_or = x or y\n",
        "logika_not_x = not x\n",
        "\n",
        "print(\"\\n4. OPERASI LOGIKA\")\n",
        "print(\"x =\", x, \", y =\", y)\n",
        "print(\"x and y =\", logika_and)\n",
        "print(\"x or y =\", logika_or)\n",
        "print(\"not x =\", logika_not_x)\n",
        "\n",
        "# 5. Contoh penggunaan di dalam percabangan\n",
        "print(\"\\n5. Contoh penggunaan di dalam percabangan\")\n",
        "if a > b and b > 0:\n",
        "    print(\"Kondisi terpenuhi: a lebih besar dari b, dan b masih positif.\")\n",
        "else:\n",
        "    print(\"Kondisi tidak terpenuhi atau b <= 0.\")"
      ],
      "metadata": {
        "id": "UKz8GdgS6hPf",
        "outputId": "7c5b9272-465e-4602-bea0-edd3a01b35b7",
        "colab": {
          "base_uri": "https://localhost:8080/"
        }
      },
      "execution_count": 24,
      "outputs": [
        {
          "output_type": "stream",
          "name": "stdout",
          "text": [
            "1. Deklarasi Variabel\n",
            "Nama = Budi\n",
            "Umur = 20\n",
            "Tinggi = 170.5 cm\n",
            "Mahasiswa = True\n",
            "\n",
            "2. OPERASI ARITMETIKA\n",
            "a = 10 , b = 3\n",
            "Penjumlahan = 13\n",
            "Pengurangan = 7\n",
            "Perkalian = 30\n",
            "Pembagian = 3.3333333333333335\n",
            "Pembagian Bulat = 3\n",
            "Modulus = 1\n",
            "Pangkat = 1000\n",
            "\n",
            "3. OPERASI PERBANDINGAN\n",
            "a > b = True\n",
            "a < b = False\n",
            "a == b = False\n",
            "a != b = True\n",
            "a >= b = True\n",
            "a <= b = False\n",
            "\n",
            "4. OPERASI LOGIKA\n",
            "x = True , y = False\n",
            "x and y = False\n",
            "x or y = True\n",
            "not x = False\n",
            "\n",
            "5. Contoh penggunaan di dalam percabangan\n",
            "Kondisi terpenuhi: a lebih besar dari b, dan b masih positif.\n"
          ]
        }
      ]
    },
    {
      "cell_type": "code",
      "source": [],
      "metadata": {
        "id": "tKZ6uszJ6vj0"
      },
      "execution_count": null,
      "outputs": []
    },
    {
      "cell_type": "markdown",
      "source": [
        "## **Pratikum 03**"
      ],
      "metadata": {
        "id": "zQq_nwoOAmKO"
      }
    },
    {
      "cell_type": "markdown",
      "source": [
        "### **Percabangan**"
      ],
      "metadata": {
        "id": "duPM-KVCAyt8"
      }
    },
    {
      "cell_type": "markdown",
      "source": [
        "Praktikum ini berfokus pada penerapan struktur kontrol aliran program berbasis kondisi, meliputi penggunaan if sederhana, if-else, if-elif-else, serta if bersarang (nested if). Mahasiswa akan mempelajari cara menggabungkan operasi logika (and, or, not) dengan percabangan untuk mengolah beragam skenario keputusan dalam program. Pendekatan ini memperkenalkan bagaimana jalannya program dapat berbeda tergantung pada kondisi yang diperiksa."
      ],
      "metadata": {
        "id": "l4Da1UAyApXP"
      }
    },
    {
      "cell_type": "code",
      "source": [
        "# -*- coding: utf-8 -*-\n",
        "\n",
        "# Praktikum 03: Percabangan\n",
        "\n",
        "# 1. Percabangan IF sederhana\n",
        "# Program hanya mengeksekusi blok jika kondisinya True 05:\n",
        "nilai = 85\n",
        "\n",
        "print(\"1. Percabangan IF sederhana\")\n",
        "if nilai >= 80:\n",
        "    print(\"Selamat, Anda lulus dengan nilai tinggi!\")\n",
        "\n",
        "\n",
        "# 2. Percabangan IF-ELSE\n",
        "# Jika kondisi True, eksekusi blok if; jika False, eksekusi blok else\n",
        "umur = 17\n",
        "\n",
        "print(\"\\n2. Percabangan IF-ELSE\")\n",
        "if umur >= 18:\n",
        "    print(\"Anda sudah cukup umur untuk mendapatkan SIM.\")\n",
        "else:\n",
        "    print(\"Anda belum cukup umur untuk mendapatkan SIM!\")\n",
        "\n",
        "\n",
        "# 3. Percabangan IF-ELIF-ELSE\n",
        "hari = \"Rabu\"\n",
        "\n",
        "print(\"\\n3. Percabangan IF-ELIF-ELSE\")\n",
        "if hari == \"Senin\":\n",
        "    print(\"Hari Senin - Saatnya kembali bekerja!\")\n",
        "elif hari == \"Selasa\":\n",
        "    print(\"Hari Selasa - Jadwal rapat mingguan.\")\n",
        "elif hari == \"Rabu\":\n",
        "    print(\"Hari Rabu - Ada diskon di beberapa toko.\")\n",
        "else:\n",
        "    print(\"Hari lainnya - Atur jadwalmu dengan baik.\")\n",
        "\n",
        "\n",
        "\n",
        "# 4. Percabangan IF Bersarang (Nested IF)\n",
        "suhu = 35\n",
        "\n",
        "print(\"\\n4. Percabangan IF Bersarang (Nested IF)\")\n",
        "if suhu > 30:\n",
        "    print(\"Cuaca cukup panas.\")\n",
        "    if suhu > 40:\n",
        "        print(\"Bahkan sangat terik! Disarankan banyak minum air.\")\n",
        "    else:  # Suhu antara 30 - 40\n",
        "        print(\"Masih relatif normal, tapi tetap jaga kesehatan.\")\n",
        "else: # Suhu <= 30\n",
        "    print(\"Cuaca sepertinya cukup sejuk.\")\n",
        "\n",
        "\n",
        "\n",
        "# 5. Menggabungkan Percabangan dengan Operasi Logika\n",
        "nilai_teori = 75\n",
        "nilai_praktik = 80\n",
        "\n",
        "print(\"\\n5. Menggabungkan Percabangan dengan Operasi Logika\")\n",
        "if nilai_teori >= 70 and nilai_praktik >= 70:\n",
        "    print(\"Anda lulus karena nilai teori dan praktik memadai.\")\n",
        "elif nilai_teori < 70 and nilai_praktik < 70:\n",
        "    print(\"Anda perlu meningkatkan nilai teori dan praktik.\")\n",
        "elif nilai_teori < 70:\n",
        "    print(\"Anda perlu meningkatkan nilai teori.\")\n",
        "else:\n",
        "    print(\"Anda perlu meningkatkan nilai praktik.\")\n",
        "\n",
        "\n",
        "# 6. Penggunaan If Ternary (atau Conditional Expression)\n",
        "angka = -5\n",
        "\n",
        "print(\"\\n6. Penggunaan If Ternary (atau Conditional Expression)\")\n",
        "status = \"Positif\" if angka > 0 else \"Negatif atau Nol\"\n",
        "print(\"Angka =\", angka, \"=>\", status)"
      ],
      "metadata": {
        "id": "KUgs3STfApwQ",
        "outputId": "d9050669-e0bf-4343-929b-4398d7b2ed5f",
        "colab": {
          "base_uri": "https://localhost:8080/"
        }
      },
      "execution_count": 36,
      "outputs": [
        {
          "output_type": "stream",
          "name": "stdout",
          "text": [
            "1. Percabangan IF sederhana\n",
            "Selamat, Anda lulus dengan nilai tinggi!\n",
            "\n",
            "2. Percabangan IF-ELSE\n",
            "Anda belum cukup umur untuk mendapatkan SIM!\n",
            "\n",
            "3. Percabangan IF-ELIF-ELSE\n",
            "Hari Rabu - Ada diskon di beberapa toko.\n",
            "\n",
            "4. Percabangan IF Bersarang (Nested IF)\n",
            "Cuaca cukup panas.\n",
            "Masih relatif normal, tapi tetap jaga kesehatan.\n",
            "\n",
            "5. Menggabungkan Percabangan dengan Operasi Logika\n",
            "Anda lulus karena nilai teori dan praktik memadai.\n",
            "\n",
            "6. Penggunaan If Ternary (atau Conditional Expression)\n",
            "Angka = -5 => Negatif atau Nol\n"
          ]
        }
      ]
    },
    {
      "cell_type": "markdown",
      "source": [
        "## **Praktikum 04**"
      ],
      "metadata": {
        "id": "idBBs8eg9yei"
      }
    },
    {
      "cell_type": "markdown",
      "source": [
        "### **Perulangan**"
      ],
      "metadata": {
        "id": "ojZnh9gs-CGo"
      }
    },
    {
      "cell_type": "markdown",
      "source": [
        "\n",
        "Praktikum ini berfokus pada penerapan struktur kontrol aliran program berbasis kondisi, meliputi penggunaan if sederhana, if-else, if-elif-else, serta if bersarang (nested if). Mahasiswa akan mempelajari cara menggabungkan operasi logika (and, or, not) dengan percabangan untuk mengolah beragam skenario keputusan dalam program. Pendekatan ini memperkenalkan bagaimana jalannya program dapat berbeda tergantung pada kondisi yang diperiksa."
      ],
      "metadata": {
        "id": "ObdAzaYT92s2"
      }
    },
    {
      "cell_type": "code",
      "source": [
        "# -*- coding: utf-8 -*-\n",
        "\n",
        "# 1. FOR Loop dengan range() dan percabangan\n",
        "print(\"1) FOR loop dengan range() dan percabangan\")\n",
        "for i in range(5):\n",
        "    print(\"Perulangan ke-\", i)\n",
        "    if i % 2 == 0:  # Percabangan: cek bilangan genap\n",
        "        print(i, \"adalah bilangan genap\")\n",
        "    else:\n",
        "        print(i, \"adalah bilangan ganjil\")\n",
        "\n",
        "print()  # pemisah output\n",
        "\n",
        "# 2. FOR Loop untuk mengiterasi List dan percabangan\n",
        "print(\"2) FOR loop mengiterasi list dan percabangan\")\n",
        "buah = [\"apel\", \"mangga\", \"jeruk\", \"pisang\"]\n",
        "for item in buah:\n",
        "    print(\"Buah:\", item)\n",
        "    if item == \"mangga\":  # Percabangan: cek buah tertentu\n",
        "        print(\"Mangga adalah buah favorit saya!\")\n",
        "\n",
        "print()\n",
        "\n",
        "# 3. WHILE Loop dengan percabangan\n",
        "print(\"3) WHILE loop sederhana dengan percabangan\")\n",
        "count = 0\n",
        "while count < 5:\n",
        "    print(\"count =\", count)\n",
        "    if count == 3:  # Percabangan: lakukan sesuatu saat count = 3\n",
        "        print(\"Count telah mencapai 3!\")\n",
        "    count += 1  # increment\n",
        "\n",
        "print()\n",
        "\n",
        "# 4. BREAK pada Loop dengan percabangan\n",
        "print(\"4) BREAK di dalam loop dengan percabangan\")\n",
        "for i in range(10):\n",
        "    if i == 3:\n",
        "        print(\"Loop dihentikan pada i =\", i)\n",
        "        break  # mengakhiri loop saat i = 3\n",
        "    else:  # Percabangan: hanya cetak jika i != 3\n",
        "        print(\"i =\", i)\n",
        "\n",
        "print()\n",
        "\n",
        "# 5. CONTINUE pada Loop dengan percabangan\n",
        "print(\"5) CONTINUE di dalam loop dengan percabangan\")\n",
        "for i in range(5):\n",
        "    if i == 2:\n",
        "        print(\"Lewati i =\", i, \"dengan continue\")\n",
        "        continue  # melewati iterasi saat ini dan lanjut ke iterasi berikutnya\n",
        "    else:  # Percabangan: hanya cetak jika i != 2\n",
        "        print(\"i =\", i)\n",
        "\n",
        "print()\n",
        "\n",
        "# 6. NESTED Loop (Loop Bersarang) dengan percabangan\n",
        "print(\"6) NESTED loop dengan percabangan\")\n",
        "for i in range(3):            # Loop luar (outer loop)\n",
        "    for j in range(2):        # Loop dalam (inner loop)\n",
        "        print(f\"i={i}, j={j}\")\n",
        "        if i == j:  # Percabangan: cek kondisi i dan j\n",
        "            print(\"i sama dengan j!\")\n",
        "\n",
        "print()\n",
        "\n",
        "# 7. Memanfaatkan ELSE pada Loop dengan percabangan\n",
        "print(\"7) ELSE pada loop for/while dengan percabangan\")\n",
        "for x in range(3):\n",
        "    print(\"x =\", x)\n",
        "    if x == 1:  # Percabangan di dalam loop\n",
        "        print(\"x adalah 1!\")\n",
        "else:\n",
        "    print(\"Loop for telah selesai tanpa break.\\n\")\n",
        "\n",
        "y = 0\n",
        "while y < 3:\n",
        "    print(\"y =\", y)\n",
        "    if y == 2:  # Percabangan di dalam loop\n",
        "        print(\"y adalah 2!\")\n",
        "    y += 1\n",
        "else:\n",
        "    print(\"Loop while telah selesai tanpa break.\\n\")\n",
        "\n",
        "# 8. PASS sebagai placeholder\n",
        "print(\"8) PASS (placeholder)\")\n",
        "for i in range(3):\n",
        "    if i == 1:\n",
        "        pass  # pass tidak melakukan apa-apa, digunakan sebagai placeholder\n",
        "    print(\"i =\", i)"
      ],
      "metadata": {
        "id": "FHDs4wfq-M9t",
        "outputId": "cd6f947b-4b06-4fd9-e5db-7d7c4e665b3c",
        "colab": {
          "base_uri": "https://localhost:8080/"
        }
      },
      "execution_count": 32,
      "outputs": [
        {
          "output_type": "stream",
          "name": "stdout",
          "text": [
            "1) FOR loop dengan range() dan percabangan\n",
            "Perulangan ke- 0\n",
            "0 adalah bilangan genap\n",
            "Perulangan ke- 1\n",
            "1 adalah bilangan ganjil\n",
            "Perulangan ke- 2\n",
            "2 adalah bilangan genap\n",
            "Perulangan ke- 3\n",
            "3 adalah bilangan ganjil\n",
            "Perulangan ke- 4\n",
            "4 adalah bilangan genap\n",
            "\n",
            "2) FOR loop mengiterasi list dan percabangan\n",
            "Buah: apel\n",
            "Buah: mangga\n",
            "Mangga adalah buah favorit saya!\n",
            "Buah: jeruk\n",
            "Buah: pisang\n",
            "\n",
            "3) WHILE loop sederhana dengan percabangan\n",
            "count = 0\n",
            "count = 1\n",
            "count = 2\n",
            "count = 3\n",
            "Count telah mencapai 3!\n",
            "count = 4\n",
            "\n",
            "4) BREAK di dalam loop dengan percabangan\n",
            "i = 0\n",
            "i = 1\n",
            "i = 2\n",
            "Loop dihentikan pada i = 3\n",
            "\n",
            "5) CONTINUE di dalam loop dengan percabangan\n",
            "i = 0\n",
            "i = 1\n",
            "Lewati i = 2 dengan continue\n",
            "i = 3\n",
            "i = 4\n",
            "\n",
            "6) NESTED loop dengan percabangan\n",
            "i=0, j=0\n",
            "i sama dengan j!\n",
            "i=0, j=1\n",
            "i=1, j=0\n",
            "i=1, j=1\n",
            "i sama dengan j!\n",
            "i=2, j=0\n",
            "i=2, j=1\n",
            "\n",
            "7) ELSE pada loop for/while dengan percabangan\n",
            "x = 0\n",
            "x = 1\n",
            "x adalah 1!\n",
            "x = 2\n",
            "Loop for telah selesai tanpa break.\n",
            "\n",
            "y = 0\n",
            "y = 1\n",
            "y = 2\n",
            "y adalah 2!\n",
            "Loop while telah selesai tanpa break.\n",
            "\n",
            "8) PASS (placeholder)\n",
            "i = 0\n",
            "i = 1\n",
            "i = 2\n"
          ]
        }
      ]
    },
    {
      "cell_type": "code",
      "source": [],
      "metadata": {
        "id": "ee8igEgr-jl8"
      },
      "execution_count": null,
      "outputs": []
    },
    {
      "cell_type": "markdown",
      "source": [
        "## Program **01**"
      ],
      "metadata": {
        "id": "AvOj8dZ1E3Fq"
      }
    },
    {
      "cell_type": "markdown",
      "source": [
        "### **Menghitung BMI (Body Mass Index)**"
      ],
      "metadata": {
        "id": "2jQNcGeZFH36"
      }
    },
    {
      "cell_type": "code",
      "source": [
        "# Fungsi untuk menghitung BMI\n",
        "def hitung_bmi(berat, tinggi):\n",
        "    tinggi_m = tinggi / 100  # Konversi tinggi dari cm ke m\n",
        "    bmi = berat / (tinggi_m ** 2)  # Rumus BMI\n",
        "    return bmi\n",
        "\n",
        "# Fungsi untuk menentukan kategori BMI\n",
        "def kategori_bmi(bmi):\n",
        "    if bmi < 18.5:\n",
        "        return \"Underweight\"\n",
        "    elif 18.5 <= bmi < 24.9:\n",
        "        return \"Normal\"\n",
        "    elif 25 <= bmi < 29.9:\n",
        "        return \"Overweight\"\n",
        "    else:\n",
        "        return \"Obesity\"\n",
        "\n",
        "# Input dari pengguna\n",
        "berat = float(input(\"Masukkan berat badan (kg): \"))\n",
        "tinggi = float(input(\"Masukkan tinggi badan (cm): \"))\n",
        "\n",
        "# Hitung BMI\n",
        "bmi = hitung_bmi(berat, tinggi)\n",
        "\n",
        "# Tentukan kategori BMI\n",
        "kategori = kategori_bmi(bmi)\n",
        "\n",
        "# Output hasil\n",
        "print(f\"\\nNilai BMI: {bmi:.2f}\")\n",
        "print(f\"Kategori: {kategori}\")"
      ],
      "metadata": {
        "id": "nosZQhGlGAvj",
        "outputId": "c5e2e977-9176-448e-ef79-88254cb1ad1c",
        "colab": {
          "base_uri": "https://localhost:8080/"
        }
      },
      "execution_count": 38,
      "outputs": [
        {
          "output_type": "stream",
          "name": "stdout",
          "text": [
            "Masukkan berat badan (kg): 50\n",
            "Masukkan tinggi badan (cm): 170\n",
            "\n",
            "Nilai BMI: 17.30\n",
            "Kategori: Underweight\n"
          ]
        }
      ]
    },
    {
      "cell_type": "code",
      "source": [],
      "metadata": {
        "id": "agqTWnERGBbp"
      },
      "execution_count": null,
      "outputs": []
    },
    {
      "cell_type": "markdown",
      "source": [
        "## **Program 02**"
      ],
      "metadata": {
        "id": "w7hzYtBALBlC"
      }
    },
    {
      "cell_type": "markdown",
      "source": [
        "### Mengecek apakah suatu bilangan genap, ganjil, atau prima."
      ],
      "metadata": {
        "id": "zn-qzxJyLEWY"
      }
    },
    {
      "cell_type": "code",
      "source": [
        "# Fungsi untuk mengecek apakah bilangan adalah prima\n",
        "def is_prima(n):\n",
        "    if n <= 1:\n",
        "        return False\n",
        "    for i in range(2, int(n**0.5) + 1):\n",
        "        if n % i == 0:\n",
        "            return False\n",
        "    return True\n",
        "\n",
        "# Input dari pengguna\n",
        "bilangan = int(input(\"Masukkan sebuah bilangan bulat: \"))\n",
        "\n",
        "# Mengecek genap atau ganjil\n",
        "if bilangan % 2 == 0:\n",
        "    print(f\"{bilangan} adalah bilangan genap.\")\n",
        "else:\n",
        "    print(f\"{bilangan} adalah bilangan ganjil.\")\n",
        "\n",
        "# Mengecek apakah bilangan adalah prima\n",
        "if is_prima(bilangan):\n",
        "    print(f\"{bilangan} adalah bilangan prima.\")\n",
        "else:\n",
        "    print(f\"{bilangan} bukan bilangan prima.\")"
      ],
      "metadata": {
        "id": "NLpYazhtLH63",
        "outputId": "198bcfb7-ce8d-4381-ca04-9c25b0dbbb8d",
        "colab": {
          "base_uri": "https://localhost:8080/"
        }
      },
      "execution_count": 41,
      "outputs": [
        {
          "output_type": "stream",
          "name": "stdout",
          "text": [
            "Masukkan sebuah bilangan bulat: 5\n",
            "5 adalah bilangan ganjil.\n",
            "5 adalah bilangan prima.\n"
          ]
        }
      ]
    },
    {
      "cell_type": "code",
      "source": [],
      "metadata": {
        "id": "J4hxQ5LuLIqq"
      },
      "execution_count": null,
      "outputs": []
    }
  ]
}