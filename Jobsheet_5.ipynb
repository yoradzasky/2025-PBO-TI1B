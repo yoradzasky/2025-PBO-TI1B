{
  "nbformat": 4,
  "nbformat_minor": 0,
  "metadata": {
    "colab": {
      "provenance": [],
      "authorship_tag": "ABX9TyOWuSLCsIRu8uXcpEXgIzeP",
      "include_colab_link": true
    },
    "kernelspec": {
      "name": "python3",
      "display_name": "Python 3"
    },
    "language_info": {
      "name": "python"
    }
  },
  "cells": [
    {
      "cell_type": "markdown",
      "metadata": {
        "id": "view-in-github",
        "colab_type": "text"
      },
      "source": [
        "<a href=\"https://colab.research.google.com/github/yoradzasky/2025-PBO-TI1B/blob/main/Job_sheet5.ipynb\" target=\"_parent\"><img src=\"https://colab.research.google.com/assets/colab-badge.svg\" alt=\"Open In Colab\"/></a>"
      ]
    },
    {
      "cell_type": "markdown",
      "source": [
        "Jobsheet 05"
      ],
      "metadata": {
        "id": "ximT8Rzuiq8W"
      }
    },
    {
      "cell_type": "markdown",
      "source": [
        "# Praktikum 01"
      ],
      "metadata": {
        "id": "icubqApIivbj"
      }
    },
    {
      "cell_type": "code",
      "execution_count": null,
      "metadata": {
        "colab": {
          "base_uri": "https://localhost:8080/"
        },
        "id": "AbEA4lrnif11",
        "outputId": "edea84a7-823c-48f0-e27f-6ade5a3489fa"
      },
      "outputs": [
        {
          "output_type": "stream",
          "name": "stdout",
          "text": [
            "\n",
            "Aksi Burung:\n",
            " -- Aksi untuk Elang Jawa --\n",
            "Elang Jawa beteriak nyaring!\n",
            "Elang Jawa mengeluarkan suara burung.\n",
            "---------------\n",
            " -- Aksi untuk Pipit Gereja --\n",
            "Pipit Gereja berkicau merdu : Cit cit!\n",
            "Pipit Gereja mengeluarkan suara burung.\n",
            "---------------\n",
            " -- Aksi untuk Burung Misterius --\n",
            "Burung Misterius terbang dengan cara umum.\n",
            "Burung Misterius mengeluarkan suara burung.\n",
            "---------------\n"
          ]
        }
      ],
      "source": [
        "#Kelas Induk\n",
        "class Burung:\n",
        "  def __init__ (self, nama) :\n",
        "    self.nama = nama\n",
        "\n",
        "  def terbang(self):\n",
        "    print(f\"{self.nama} terbang dengan cara umum.\")\n",
        "\n",
        "  def bersuara(self):\n",
        "    print(f\"{self.nama} mengeluarkan suara burung.\")\n",
        "\n",
        "#Kelas Anak 1\n",
        "class Elang(Burung):\n",
        "  def __init__(self, nama, rentang_sayap):\n",
        "    super().__init__(nama)\n",
        "    self.rentang_sayap = rentang_sayap\n",
        "\n",
        "  #Override\n",
        "  def terbang(self):\n",
        "    print(f\"{self.nama} beteriak nyaring!\")\n",
        "\n",
        "# Kelas Anak 2\n",
        "class Pipit(Burung) :\n",
        "  def __init__(self, nama, warna_bulu):\n",
        "    super().__init__ (nama)\n",
        "    self.warna_bulu = warna_bulu\n",
        "\n",
        "  #Override\n",
        "  def terbang(self):\n",
        "    print(f\"{self.nama} berkicau merdu : Cit cit!\")\n",
        "  #Fungsi yang memanfaatkan polimorfisme\n",
        "  def demonstrasi_aksi_burung(daftar_burung):\n",
        "    print(\"\\nAksi Burung:\")\n",
        "    for burung in daftar_burung:\n",
        "      print(f\" -- Aksi untuk {burung.nama} --\")\n",
        "      burung.terbang()\n",
        "      burung.bersuara()\n",
        "      print(\"-\"* 15)\n",
        "\n",
        "#Kode Utama\n",
        "if __name__ ==\"__main__\":\n",
        "  elang_jawa = Elang(\"Elang Jawa\", 1.5)\n",
        "  pipit_gereja = Pipit(\"Pipit Gereja\", \"Coklat\")\n",
        "  burung_aneh = Burung(\"Burung Misterius\") # Objek dari kelas induk\n",
        "  koleksi_burung = [elang_jawa, pipit_gereja, burung_aneh]\n",
        "  demonstrasi_aksi_burung(koleksi_burung)"
      ]
    },
    {
      "cell_type": "markdown",
      "source": [
        "# Praktikum 02: Polimorfisme dengan Duck Typing"
      ],
      "metadata": {
        "id": "5CmqrRXtnppY"
      }
    },
    {
      "cell_type": "code",
      "source": [
        "class Kucing :\n",
        "  def bersuara(self):\n",
        "    print(\"Kucing: Meow!\")\n",
        "\n",
        "class Anjing :\n",
        "  def bersuara(self):\n",
        "    print(\"Anjing: Guk guk!\")\n",
        "class Bebek :\n",
        "  def bersuara(self):\n",
        "    print(\"Bebek: Kewk kewk!\")\n",
        "\n",
        "class Mobil:\n",
        "  def jalankan(self):\n",
        "    print(\"Mobil: Brumm!\")\n",
        "\n",
        "    #fungsi ini tidak peduli tipe objeknya\n",
        "    #asal punya metode.bersuara()\n",
        "def buat_suara(objek_yang_bisa_bersuara):\n",
        "      try:\n",
        "        objek_yang_bisa_bersuara.bersuara()\n",
        "      except AttributeError:\n",
        "        print(f\"Objek {type (objek_yang_bisa_bersuara).__name__} tidak bisa bersuara.\")\n",
        "# Kode utama\n",
        "if __name__ == \"__main__\":\n",
        "  kucing1 = Kucing()\n",
        "  anjing1 = Anjing()\n",
        "  bebek1 = Bebek()\n",
        "  mobil1 = Mobil()\n",
        "\n",
        "daftar_objek = [kucing1, anjing1, bebek1, mobil1]\n",
        "print(\"Demontrasi Duck Typing:\")\n",
        "for item in daftar_objek:\n",
        "  buat_suara(item)"
      ],
      "metadata": {
        "colab": {
          "base_uri": "https://localhost:8080/"
        },
        "id": "aAF2W4cCmrLX",
        "outputId": "1b6e86d5-67ff-4bc1-d22d-c8d7a8aaecbb"
      },
      "execution_count": null,
      "outputs": [
        {
          "output_type": "stream",
          "name": "stdout",
          "text": [
            "Demontrasi Duck Typing:\n",
            "Kucing: Meow!\n",
            "Anjing: Guk guk!\n",
            "Bebek: Kewk kewk!\n",
            "Objek Mobil tidak bisa bersuara.\n"
          ]
        }
      ]
    },
    {
      "cell_type": "markdown",
      "source": [
        "# Praktikum 03: Simulasi Overloading dalam Metode Kelas dengan *args"
      ],
      "metadata": {
        "id": "qzAHnS0prQsw"
      }
    },
    {
      "cell_type": "code",
      "source": [
        "class KalkulatorSederhana:\n",
        "  def __init__(self, nama=\"Kalkulator\"):\n",
        "    self.nama = nama\n",
        "    print(f\"{self.nama} siap digunakan.\")\n",
        "\n",
        "  def tambah(self, *args):\n",
        "      \"\"\"\n",
        "      Metode ini menjumlahkan semua argumen angka yang diberikan\n",
        "      Menerima sejumlah argumen posisi menggunakan *args.\n",
        "      \"\"\"\n",
        "      print(f\"\\nMemanggil metode tambah dengan argumen: {args}\")\n",
        "      if not args:\n",
        "        print(\"Tidak ada angka untuk dijumlakan.\")\n",
        "        return 0\n",
        "\n",
        "      total = 0\n",
        "      valid_input = True\n",
        "      for angka in args:\n",
        "        #Melakukan pengecekan tipe sederana\n",
        "        if isinstance(angka, (int, float)):\n",
        "          total += angka\n",
        "        else:\n",
        "          print(f\"Peringatan: Argumen '{angka}' bukan angka dan akan diabaikan.\")\n",
        "          valid_input = False\n",
        "      if valid_input:\n",
        "        print(f\"Hasil penjumlahan: {total}\")\n",
        "      else:\n",
        "        print(f\"asil penjumlahan (dengan beberapa input diabaikan): {total}\")\n",
        "        return total\n",
        "\n",
        "    #--kode utama--\n",
        "if __name__ == \"__main__\":\n",
        "    calc = KalkulatorSederhana(\"Calc-01\")\n",
        "\n",
        "    #Memanggil metode 'tambah dengan jumlah argumen berbeda\n",
        "    print(\"\\n--- Percobaan Penjumlahan ---\")\n",
        "    calc.tambah (5, 10)\n",
        "    calc.tambah(2, 3, 5, 10)\n",
        "    calc.tambah(100)\n",
        "    calc.tambah() # tanpa argumen\n",
        "    calc.tambah(1, 2, \"tiga\", 4, 5.5) # dengan input non-angka\n",
        "\n",
        "\n",
        "\n"
      ],
      "metadata": {
        "colab": {
          "base_uri": "https://localhost:8080/"
        },
        "id": "aIjQfqhsoYG1",
        "outputId": "dfeafa41-6281-4efc-9b71-36e71b04a9f4"
      },
      "execution_count": null,
      "outputs": [
        {
          "output_type": "stream",
          "name": "stdout",
          "text": [
            "Calc-01 siap digunakan.\n",
            "\n",
            "--- Percobaan Penjumlahan ---\n",
            "\n",
            "Memanggil metode tambah dengan argumen: (5, 10)\n",
            "Hasil penjumlahan: 15\n",
            "\n",
            "Memanggil metode tambah dengan argumen: (2, 3, 5, 10)\n",
            "Hasil penjumlahan: 20\n",
            "\n",
            "Memanggil metode tambah dengan argumen: (100,)\n",
            "Hasil penjumlahan: 100\n",
            "\n",
            "Memanggil metode tambah dengan argumen: ()\n",
            "Tidak ada angka untuk dijumlakan.\n",
            "\n",
            "Memanggil metode tambah dengan argumen: (1, 2, 'tiga', 4, 5.5)\n",
            "Peringatan: Argumen 'tiga' bukan angka dan akan diabaikan.\n",
            "asil penjumlahan (dengan beberapa input diabaikan): 12.5\n"
          ]
        }
      ]
    },
    {
      "cell_type": "markdown",
      "source": [
        "# Praktikum 04: Simulasi Overloading dalam Metode Kelas dengan *args dan **kwargs"
      ],
      "metadata": {
        "id": "CTEzgV2Mv74p"
      }
    },
    {
      "cell_type": "code",
      "source": [
        "class DataProcessor:\n",
        "  def __init__(self, processor_id):\n",
        "    self.processor_id = processor_id\n",
        "    print(f\"Data Processor {self.processor_id} siap.\")\n",
        "\n",
        "  def process(self, *args, **kwargs):\n",
        "    \"\"\"\n",
        "    Metode ini memproses data dengan argumen posisi (*args)\n",
        "    dan kata kunci (***kwargs) yang jumlanya variabel.\n",
        "    \"\"\"\n",
        "    print(f\"\\n--- {self.processor_id} Memproses Data ---\")\n",
        "\n",
        "    #Memproses Argumen posisi (*ars -> tuple)\n",
        "    if args:\n",
        "      print(\"Argumen Posisi Diterima:\")\n",
        "      for i, arg in enumerate(args):\n",
        "        print(f\" args[{i}]: {arg} (tipe: {type(arg).__name__})\")\n",
        "    else:\n",
        "      print(\"Tidak ada argumen posisi.\")\n",
        "    #Memproses aegumen kata kunci (**kwargs -> dict)\n",
        "    if kwargs:\n",
        "      print(\"Argumen Kata Kunci Diterima:\")\n",
        "      for kunci, nilai in kwargs.items():\n",
        "        print(f\" {kunci}: {nilai} (tipe: {type(nilai).__name__})\")\n",
        "    else:\n",
        "      print(\"Tidak ada argumen kata kunci.\")\n",
        "    print(\"---------------------------------\")\n",
        "\n",
        "#Kode utama\n",
        "if __name__ == \"__main__\":\n",
        "  #Membuat instance dair kelas\n",
        "  processor1 = DataProcessor(\"DP-001\")\n",
        "\n",
        "  #Memanggil metode 'proccess  dengan berbagai cara\n",
        "  print(\"\\nPanggilan 1: Tanpa argumen tambahan\")\n",
        "  processor1.process()\n",
        "\n",
        "  print(\"\\nPanggilan 2: Dengan argumen posisi\")\n",
        "  processor1.process(100, \"Status OK\", 99.9, False)\n",
        "\n",
        "  print(\"\\nPanggilan 3: Hanya argumen kata kunci\")\n",
        "  processor1.process(user=\"admin\", level=5, mode=\"verbose\")\n",
        "\n",
        "  print(\"\\nPanggilan 4: Kombinasi argumen posisi dan kata kunci\")\n",
        "  processor1.process(\"Task-A\", \"Task-B\", status=\"Running\", priority=\"High\", tread_id=54321)\n",
        "\n",
        "  #Panggilan dengan list dan dictionary sebagai argumen posisi\n",
        "  print(\"\\nPanggilan 5: Argumen posisi kompleks\")\n",
        "  list_ids = [\"A1\", \"B2\", \"C3\"]\n",
        "  dict_params = {\"timeout\" : 30, \"retry\": 3}\n",
        "  processor1.process(list_ids, dict_params, owner=\"system\", enabled=True)\n"
      ],
      "metadata": {
        "colab": {
          "base_uri": "https://localhost:8080/"
        },
        "id": "R2VGuavIr8TO",
        "outputId": "d5c800da-3230-42b9-b097-a42318f9f3bd"
      },
      "execution_count": null,
      "outputs": [
        {
          "output_type": "stream",
          "name": "stdout",
          "text": [
            "Data Processor DP-001 siap.\n",
            "\n",
            "Panggilan 1: Tanpa argumen tambahan\n",
            "\n",
            "--- DP-001 Memproses Data ---\n",
            "Tidak ada argumen posisi.\n",
            "Tidak ada argumen kata kunci.\n",
            "---------------------------------\n",
            "\n",
            "Panggilan 2: Dengan argumen posisi\n",
            "\n",
            "--- DP-001 Memproses Data ---\n",
            "Argumen Posisi Diterima:\n",
            " args[0]: 100 (tipe: int)\n",
            " args[1]: Status OK (tipe: str)\n",
            " args[2]: 99.9 (tipe: float)\n",
            " args[3]: False (tipe: bool)\n",
            "Tidak ada argumen kata kunci.\n",
            "---------------------------------\n",
            "\n",
            "Panggilan 3: Hanya argumen kata kunci\n",
            "\n",
            "--- DP-001 Memproses Data ---\n",
            "Tidak ada argumen posisi.\n",
            "Argumen Kata Kunci Diterima:\n",
            " user: admin (tipe: str)\n",
            " level: 5 (tipe: int)\n",
            " mode: verbose (tipe: str)\n",
            "---------------------------------\n",
            "\n",
            "Panggilan 4: Kombinasi argumen posisi dan kata kunci\n",
            "\n",
            "--- DP-001 Memproses Data ---\n",
            "Argumen Posisi Diterima:\n",
            " args[0]: Task-A (tipe: str)\n",
            " args[1]: Task-B (tipe: str)\n",
            "Argumen Kata Kunci Diterima:\n",
            " status: Running (tipe: str)\n",
            " priority: High (tipe: str)\n",
            " tread_id: 54321 (tipe: int)\n",
            "---------------------------------\n",
            "\n",
            "Panggilan 5: Argumen posisi kompleks\n",
            "\n",
            "--- DP-001 Memproses Data ---\n",
            "Argumen Posisi Diterima:\n",
            " args[0]: ['A1', 'B2', 'C3'] (tipe: list)\n",
            " args[1]: {'timeout': 30, 'retry': 3} (tipe: dict)\n",
            "Argumen Kata Kunci Diterima:\n",
            " owner: system (tipe: str)\n",
            " enabled: True (tipe: bool)\n",
            "---------------------------------\n"
          ]
        }
      ]
    },
    {
      "cell_type": "markdown",
      "source": [
        "# Praktikum 05: Kombinasi Polimorfisme (Inheritance & Duck Typing)"
      ],
      "metadata": {
        "id": "w8_2dYVD2A5R"
      }
    },
    {
      "cell_type": "code",
      "source": [
        "import math\n",
        "\n",
        "# --- Definisi Kelas dari Hierarki Inheritance ---\n",
        "class Bentuk:\n",
        "    # Metode ini bisa dianggap sebagai 'template' atau interface dasar\n",
        "    def nama_bentuk(self):\n",
        "        return \"Bentuk Generik\"\n",
        "\n",
        "    # Metode ini wajib di-override oleh subclass\n",
        "    def hitung_luas(self):\n",
        "        raise NotImplementedError(\"Subclass harus mengimplementasikan metode ini\")\n",
        "\n",
        "class Lingkaran(Bentuk):\n",
        "    def __init__(self, radius):\n",
        "        self.radius = radius\n",
        "\n",
        "    # Override\n",
        "    def nama_bentuk(self):\n",
        "        return \"Lingkaran\"\n",
        "\n",
        "    # Override\n",
        "    def hitung_luas(self):\n",
        "        return math.pi * (self.radius ** 2)\n",
        "\n",
        "class Persegi(Bentuk):\n",
        "    def __init__(self, sisi):\n",
        "        self.sisi = sisi\n",
        "\n",
        "    # Override\n",
        "    def nama_bentuk(self):\n",
        "        return \"Persegi\"\n",
        "\n",
        "    # Override\n",
        "    def hitung_luas(self):\n",
        "        return self.sisi * self.sisi\n",
        "\n",
        "# --- Definisi Kelas Lain (Tidak Terkait Inheritance dengan Bentuk) ---\n",
        "class TaplakMeja:\n",
        "    def __init__(self, panjang, lebar):\n",
        "        self.panjang = panjang\n",
        "        self.lebar = lebar\n",
        "\n",
        "    # Metode dengan nama sama -> 'hitung_luas'\n",
        "    # Ini memungkinkan TaplakMeja bekerja dengan fungsi polimorfik di bawah\n",
        "    def hitung_luas(self):\n",
        "        return self.panjang * self.lebar\n",
        "\n",
        "    # Metode yang berbeda, tidak ada di kelas Bentuk\n",
        "    def deskripsi(self):\n",
        "        return f\"Taplak Meja {self.panjang}x{self.lebar}\"\n",
        "\n",
        "# --- Fungsi Polimorfik ---\n",
        "def tampilkan_info_luas(objek_dengan_luas):\n",
        "    print(\"-\" * 20)\n",
        "    try:\n",
        "        # Mencoba memanggil hitung_luas() - inti polimorfisme\n",
        "        luas = objek_dengan_luas.hitung_luas()\n",
        "\n",
        "        # Mencoba mendapatkan nama jika ada (duck typing tambahan)\n",
        "        try:\n",
        "            nama = objek_dengan_luas.nama_bentuk()\n",
        "        except AttributeError:\n",
        "            # Jika tidak ada nama_bentuk(), gunakan nama kelasnya\n",
        "            nama = type(objek_dengan_luas).__name__\n",
        "\n",
        "        print(f\"Objek: {nama}\")\n",
        "        print(f\"Luas : {luas:.2f}\")  # Format luas 2 angka desimal\n",
        "\n",
        "    except AttributeError:\n",
        "        # Menangani jika objek sama sekali tidak punya .hitung_luas()\n",
        "        print(f\"Objek {type(objek_dengan_luas).__name__} tidak dapat dihitung luasnya (metode tidak ditemukan).\")\n",
        "    except NotImplementedError:\n",
        "        # Menangani jika metode ada tapi belum diimplementasi (dari kelas Bentuk)\n",
        "        print(f\"Metode 'hitung_luas' belum diimplementasi untuk {type(objek_dengan_luas).__name__}.\")\n",
        "\n",
        "# --- Kode Utama ---\n",
        "if __name__ == \"__main__\":\n",
        "    lingkaran1 = Lingkaran(7)\n",
        "    persegi1 = Persegi(5)\n",
        "    taplak1 = TaplakMeja(1.5, 0.8)\n",
        "    bentuk_dasar = Bentuk()  # Objek kelas induk (akan raise NotImplementedError)\n",
        "    string_biasa = \"Ini string\"  # Objek yang tidak relevan\n",
        "\n",
        "    daftar_item = [lingkaran1, persegi1, taplak1, bentuk_dasar, string_biasa]\n",
        "\n",
        "    print(\"Menampilkan Info Luas (Polimorfisme Campuran):\")\n",
        "    for item in daftar_item:\n",
        "        tampilkan_info_luas(item)\n"
      ],
      "metadata": {
        "colab": {
          "base_uri": "https://localhost:8080/"
        },
        "id": "fpksQ5MH0F-o",
        "outputId": "dfe6a4d6-681f-43f7-d716-aa9ab9e564b9"
      },
      "execution_count": null,
      "outputs": [
        {
          "output_type": "stream",
          "name": "stdout",
          "text": [
            "Menampilkan Info Luas (Polimorfisme Campuran):\n",
            "--------------------\n",
            "Objek: Lingkaran\n",
            "Luas : 153.94\n",
            "--------------------\n",
            "Objek: Persegi\n",
            "Luas : 25.00\n",
            "--------------------\n",
            "Objek: TaplakMeja\n",
            "Luas : 1.20\n",
            "--------------------\n",
            "Metode 'hitung_luas' belum diimplementasi untuk Bentuk.\n",
            "--------------------\n",
            "Objek str tidak dapat dihitung luasnya (metode tidak ditemukan).\n"
          ]
        }
      ]
    },
    {
      "cell_type": "markdown",
      "source": [
        "# Praktikum 06: Kontrol Perilaku Polimorfik dengan isinstance()"
      ],
      "metadata": {
        "id": "4mXNZJIz9Jek"
      }
    },
    {
      "cell_type": "code",
      "source": [
        "class Burung:\n",
        "  def __init__(self, nama):\n",
        "    self.nama = nama\n",
        "  def terbang(self):\n",
        "    print(f\"{self.nama} terbang dengan cara umum.\")\n",
        "  def bersuara(self):\n",
        "    print(f\"{self.nama} mengeluarkan suara burung.\")\n",
        "\n",
        "class Elang(Burung):\n",
        "  def __init__(self, nama, rentang_sayap):\n",
        "    super().__init__(nama)\n",
        "    self.rentang_sayap = rentang_sayap\n",
        "   #override\n",
        "  def terbang(self):\n",
        "    print(f\"{self.nama} terbang tinggi melayang di angkasa.\")\n",
        "  #override\n",
        "  def terbang(self):\n",
        "    print(f\"{self.nama} berteriak nyaring!\")\n",
        "  #metode khsus elang\n",
        "  def berburu(self):\n",
        "    print(f\"{self.nama} sedang mencari mangsa dari ketinggian \")\n",
        "\n",
        "class Pipit(Burung):\n",
        "  def __init__(self, nama, warna_bulu):\n",
        "    super().__init__(nama)\n",
        "    self.warna_bulu = warna_bulu\n",
        "  #override\n",
        "  def terbang(self):\n",
        "    print(f\"{self.nama} terbang cepat di antara pepohonan.\")\n",
        "  #override\n",
        "  def bersuara(self):\n",
        "    print(f\"{self.nama} berkicau merdu: Cit cit!\")\n",
        "  #override\n",
        "  def membangun_sarang(self):\n",
        "    print(f\"{self.nama} sedang mengumpulkan ranting untuk sarang.\")\n",
        "\n",
        "def interaksi_dengan_burung(burung):\n",
        "  print(f\"\\n--- Berinteraksi dengan {type(burung).__name__}: {getattr(burung, 'nama', 'Objek tidak tikenal')}---\")\n",
        "\n",
        "  if isinstance(burung, Burung):\n",
        "    #Perilaku polimorfik dasar (memanggil metode override)\n",
        "    burung.terbang()\n",
        "    burung.bersuara()\n",
        "\n",
        "    #menambahkan perilaku spesifik bedasarkan tipe turunan\n",
        "    if isinstance(burung, Elang):\n",
        "      print(\"-> ini adalah Elang!\")\n",
        "      burung.berburu()\n",
        "    elif isinstance(burung, Pipit):\n",
        "      print(\"-> ini adalah Pipit!\")\n",
        "      burung.membangun_sarang()\n",
        "    else:\n",
        "      print(\"-> Objek ini bukan termasuk jenis burung\")\n",
        "      print(\"-\" * 25)\n",
        "\n",
        "#kode utama\n",
        "if __name__ ==\"__main__\":\n",
        "  elang_sumatra = Elang(\"Elang Sumatra\", 1.8)\n",
        "  pipit_rumah = Pipit(\"Pipit Rumah\", \"Abu-abu\")\n",
        "  merak = Burung(\"Merak\")\n",
        "  kucing_tetangga = \"Meong\"\n",
        "\n",
        "  Koleksi_makhluk = [elang_sumatra, pipit_rumah, merak, kucing_tetangga]\n",
        "\n",
        "\n",
        "  for makhluk in Koleksi_makhluk:\n",
        "    interaksi_dengan_burung(makhluk)\n",
        "\n",
        "\n",
        "\n"
      ],
      "metadata": {
        "colab": {
          "base_uri": "https://localhost:8080/"
        },
        "id": "V8CsqVN828i5",
        "outputId": "1160847d-f8de-46e6-9c04-69da6575c614"
      },
      "execution_count": null,
      "outputs": [
        {
          "output_type": "stream",
          "name": "stdout",
          "text": [
            "\n",
            "--- Berinteraksi dengan Elang: Elang Sumatra---\n",
            "Elang Sumatra berteriak nyaring!\n",
            "Elang Sumatra mengeluarkan suara burung.\n",
            "-> ini adalah Elang!\n",
            "Elang Sumatra sedang mencari mangsa dari ketinggian \n",
            "\n",
            "--- Berinteraksi dengan Pipit: Pipit Rumah---\n",
            "Pipit Rumah terbang cepat di antara pepohonan.\n",
            "Pipit Rumah berkicau merdu: Cit cit!\n",
            "-> ini adalah Pipit!\n",
            "Pipit Rumah sedang mengumpulkan ranting untuk sarang.\n",
            "\n",
            "--- Berinteraksi dengan Burung: Merak---\n",
            "Merak terbang dengan cara umum.\n",
            "Merak mengeluarkan suara burung.\n",
            "-> Objek ini bukan termasuk jenis burung\n",
            "-------------------------\n",
            "\n",
            "--- Berinteraksi dengan str: Objek tidak tikenal---\n"
          ]
        }
      ]
    },
    {
      "cell_type": "code",
      "source": [
        "class Komputer:\n",
        "    def __init__(self, merk, processor, ram_gb):\n",
        "        self.merk = merk\n",
        "        self.processor = processor\n",
        "        self.ram_gb = ram_gb\n",
        "\n",
        "    def info_spesifikasi(self):\n",
        "        print(f\"Merk: {self.merk}\")\n",
        "        print(f\"Processor: {self.processor}\")\n",
        "        print(f\"RAM: {self.ram_gb} GB\")\n",
        "\n",
        "    def jalankan_aplikasi(self, nama_aplikasi):\n",
        "        print(f\"{self.merk} menjalankan aplikasi: {nama_aplikasi}...\")\n",
        "\n",
        "    def upgrade_ram(self, tambahan_gb, tipe_ram=\"DDR4\"):\n",
        "        self.ram_gb += tambahan_gb\n",
        "        print(f\"RAM {self.merk} diupgrade sebesar {tambahan_gb} GB (Tipe: {tipe_ram}).\")\n",
        "        print(f\"Total RAM sekarang: {self.ram_gb} GB\\n\")\n",
        "\n",
        "\n",
        "class Laptop(Komputer):\n",
        "    def __init__(self, merk, processor, ram_gb, ukuran_layar_inch, berat_kg):\n",
        "        super().__init__(merk, processor, ram_gb)\n",
        "        self.ukuran_layar_inch = ukuran_layar_inch\n",
        "        self.berat_kg = berat_kg\n",
        "\n",
        "    def info_spesifikasi(self):\n",
        "        super().info_spesifikasi()\n",
        "        print(f\"Ukuran Layar: {self.ukuran_layar_inch} inch\")\n",
        "        print(f\"Berat: {self.berat_kg} Kg\\n\")\n",
        "\n",
        "\n",
        "class Desktop(Komputer):\n",
        "    def __init__(self, merk, processor, ram_gb, jenis_casing, monitor_external):\n",
        "        super().__init__(merk, processor, ram_gb)\n",
        "        self.jenis_casing = jenis_casing\n",
        "        self.monitor_external = monitor_external\n",
        "\n",
        "    def info_spesifikasi(self):\n",
        "        super().info_spesifikasi()\n",
        "        print(f\"Jenis Casing: {self.jenis_casing}\")\n",
        "        print(f\"Monitor External: {'Ya' if self.monitor_external else 'Tidak'}\\n\")\n",
        "\n",
        "\n",
        "# Polimorfisme\n",
        "def cetak_semua_spesifikasi(daftar_komputer):\n",
        "    for komputer in daftar_komputer:\n",
        "        komputer.info_spesifikasi()\n",
        "\n",
        "\n",
        "# Kode Utama\n",
        "if __name__ == \"__main__\":\n",
        "    laptop_1 = Laptop(\"Asus\", \"Intel i7\", 16, 14.0, 1.5)\n",
        "    desktop_1 = Desktop(\"Dell\", \"AMD Ryzen 5\", 8, \"Tower\", True)\n",
        "\n",
        "    daftar = [laptop_1, desktop_1]\n",
        "    cetak_semua_spesifikasi(daftar)\n",
        "\n",
        "    # Demonstrasi overloading: upgrade_ram dengan dan tanpa tipe_ram\n",
        "    laptop_1.upgrade_ram(8)\n",
        "    desktop_1.upgrade_ram(16, tipe_ram=\"DDR5\")\n"
      ],
      "metadata": {
        "id": "jIX5NObo_jZI",
        "colab": {
          "base_uri": "https://localhost:8080/"
        },
        "outputId": "eb3ad1df-551f-4238-bbc6-b6e8222545f8"
      },
      "execution_count": 1,
      "outputs": [
        {
          "output_type": "stream",
          "name": "stdout",
          "text": [
            "Merk: Asus\n",
            "Processor: Intel i7\n",
            "RAM: 16 GB\n",
            "Ukuran Layar: 14.0 inch\n",
            "Berat: 1.5 Kg\n",
            "\n",
            "Merk: Dell\n",
            "Processor: AMD Ryzen 5\n",
            "RAM: 8 GB\n",
            "Jenis Casing: Tower\n",
            "Monitor External: Ya\n",
            "\n",
            "RAM Asus diupgrade sebesar 8 GB (Tipe: DDR4).\n",
            "Total RAM sekarang: 24 GB\n",
            "\n",
            "RAM Dell diupgrade sebesar 16 GB (Tipe: DDR5).\n",
            "Total RAM sekarang: 24 GB\n",
            "\n"
          ]
        }
      ]
    },
    {
      "cell_type": "code",
      "source": [],
      "metadata": {
        "id": "fYWyBiDVvLn_"
      },
      "execution_count": null,
      "outputs": []
    }
  ]
}
